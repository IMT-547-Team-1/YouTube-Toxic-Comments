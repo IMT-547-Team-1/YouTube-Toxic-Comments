{
  "cells": [
    {
      "cell_type": "markdown",
      "id": "9d23eb7e",
      "metadata": {
        "id": "9d23eb7e"
      },
      "source": [
        "# IMT 547 - Term Project Phase 1"
      ]
    },
    {
      "cell_type": "markdown",
      "id": "22554d6a",
      "metadata": {
        "id": "22554d6a"
      },
      "source": [
        "#### Title: YouTube Gaming Comments Toxicity\n",
        "    Team name: Group 1\n",
        "    Team members: Chesie Yu, Hongfan Lu, Bella Wei\n",
        "    Problem Description:\n",
        "        Toxicity in the gaming community is a prevalent problem that hinders the harmonious development of the gaming industry. Our objective is to tackle this concern by exploring whether the game category (Action and Non-Action) serves as a primary determinant of toxicity levels in YouTube video comments. This study focuses on the observational perspective rather than the player angle. If proven, it can offer valuable insights for gaming community management, game design, and the design of social media platforms."
      ]
    },
    {
      "cell_type": "markdown",
      "id": "72412014",
      "metadata": {
        "id": "72412014"
      },
      "source": [
        "#### RQ1:\n",
        "    - Do videos of action games arouse significant more toxic comments than non-action games in YouTube?\n",
        "    - Our project is interested in investigating sections for action and non-action based gaming videos on YouTube.\n",
        "    - We hypothesis that there will be different type of emotions represented in the comment section;\n",
        "    - Moreover, the occurance of profanity might be higher in the action based gaming videos."
      ]
    },
    {
      "cell_type": "markdown",
      "id": "5955f4df",
      "metadata": {
        "id": "5955f4df"
      },
      "source": [
        "#### RQ2:\n",
        "    - Which kinds of gaming video attract most toxic comments? Any pattern behind the scene?\n",
        "    - How does YouTubers' contents, characteristics and behaviors influence toxicity in comments section."
      ]
    },
    {
      "cell_type": "markdown",
      "id": "c50e6ada",
      "metadata": {
        "id": "c50e6ada"
      },
      "source": [
        "### Data collection steps:\n",
        "\n",
        "    1. Utilizing YouTube API to access Youtube comments\n",
        "    \n",
        "    2. Keywords for ActionGames:\n",
        "       - action_keywords = [\n",
        "            \"call of duty\", \"gta\", \"the last of us\", \"god of war\", \"batman\",\n",
        "            \"red dead redemption\", \"assassin's creed\", \"star wars jedi\",\n",
        "            \"resident evil\", \"cyberpunk\", \"fallout\", \"tomb raider\", \"elden ring\"]\n",
        "        - Keywords for NonActionGames:\n",
        "            nonaction_keywords = [\n",
        "            \"minecraft\", \"pokemon go\", \"just dance\", \"it takes two\", \"uncharted\",\n",
        "            \"brawl stars\"]\n",
        "            \n",
        "    3. Found 33 English-Speaking youtubers from a list of top 100 (ranked by number of subscriber)\n",
        "    \n",
        "    4. For each Youtuber, select 30 video for action games and 30 for non-action games\n",
        "    \n",
        "    5. Use Relevance (YouTube internal algo) to extract 100 comments each video"
      ]
    },
    {
      "cell_type": "markdown",
      "id": "9d140402-49a5-4d31-88aa-dbf51ca78be4",
      "metadata": {
        "id": "9d140402-49a5-4d31-88aa-dbf51ca78be4"
      },
      "source": [
        "### Description for notebook 01-data-collection\n",
        "\n",
        "Description of code 1- Data Collection:\n",
        "    \n",
        "    Our data collection phrase is divided into 3 modules:\n",
        "        1. Authentication & Configuration: Prepared the necessary tools and configuration for our later data collection\n",
        "            - Set up the YouTube API key\n",
        "            - Install and import necessary libraries\n",
        "            - Configure the log recording system\n",
        "            - Initialize a client that can communicates with YouTube API\n",
        "            \n",
        "        2. Utility Function: Encapsulated a series of necessary operations into functions.\n",
        "            - get_uploads_id(channel_id): Fetch the uploads playlist ID for a given YouTube channel.\n",
        "            - get_video_ids(uploads_id, max_videos=30, keywords=“”): Fetch 30 video IDs containing keyword in a given upload playlist\n",
        "            - get_video_info(video_ids): Fetch necessary video info from a list of YouTube videos.\n",
        "                The info contains information of ([“channel_id”, “channel_name”, “video_id”, “video_title”, “video_creation_time”, “video_description”, “video_tags”, “video_viewcount”, “video_likecount”, \"video_commentcount\"])\n",
        "            - get_video_comments(video_ids, max_comments=100): Fetch comments (100 max each) for a list of videos.\n",
        "                The comments’ info contains ([“video_id”, “comment_id”, “comment_author_id”, “comment_text”, “comment_time”, “comment_likecount”, \"comment_replycount\"])\n",
        "            - get_youtube_data(channel_ids, max_videos=30, max_comments=100, keywords=“”): Main function. Fetch videos and comments for a list of channels\n",
        "            \n",
        "        3. Data Collection\n",
        "            - Set up the parameters(max 100 comments under max 30 videos for each YouTube channel) and keywords list for ‘Action’ and ‘Non-Action’ game category\n",
        "            - Read a self-built document ‘top 100 popular gaming YouTubers’ as our targeted channels, filtering only english-speaking channels\n",
        "            - Collect and combine comment infos for action and non-action games\n",
        "            - Get and save 139202 comments records"
      ]
    },
    {
      "cell_type": "markdown",
      "id": "ced295a7-9d64-4bf8-a868-098665a81d61",
      "metadata": {
        "id": "ced295a7-9d64-4bf8-a868-098665a81d61"
      },
      "source": [
        "### Descripton for notebook 02-preprocessing\n",
        "\n",
        "Our data preprocessing is divided into ? modules:\n",
        "    \n",
        "    1. Data Cleaning\n",
        "        - Check missings: 991 rows with missing values; 138211 rows left after removing NA\n",
        "        - Check data types: transfer time-related columns into datetime data type:\n",
        "            Comments are from a range of time in ('2011-04-22T01:05:52Z', '2024-02-18T20:15:11Z')\n",
        "        - A total of 1435 unique videos are included\n",
        "        \n",
        "    2. Text Preprocessing\n",
        "        - Filter English comments only\n",
        "        - Do text cleaning by removing unimportant content such as URLs, mentions and stop words.\n",
        "        - Tokenization and save results into the dataframe\n",
        "        \n",
        "    3. Data Labeling\n",
        "        - Toxicity scores by perspective API\n",
        "        - Sentiment scores by vader, textblob and empath"
      ]
    },
    {
      "cell_type": "code",
      "execution_count": null,
      "id": "f8bb4fb3-48cb-4abd-9fcc-01442eb1385e",
      "metadata": {
        "id": "f8bb4fb3-48cb-4abd-9fcc-01442eb1385e"
      },
      "outputs": [],
      "source": [
        "# Preliminary Analysis"
      ]
    },
    {
      "cell_type": "markdown",
      "id": "7797fc6f-d047-4b96-bffb-5b44b4197251",
      "metadata": {
        "id": "7797fc6f-d047-4b96-bffb-5b44b4197251"
      },
      "source": [
        "#### Report format using QQQ\n",
        "    Qualitative:\n",
        "        Question, problem, hypothesis, claim, context, motivation\n",
        "        Definitions, data, methods to be used\n",
        "        Rationale, assumptions, biases\n",
        "    Quantitative:\n",
        "        Data processing, analysis, visualization\n",
        "        Documented code and results\n",
        "        Summary visuals\n",
        "    Qualitative:\n",
        "        Answer, update question/claim, summary, re-contextualization, story, relate to domain knowledge\n",
        "        Uncertainty, limitations, caveats\n",
        "        New problems, next steps\n",
        "    Repeat. QQQ-QQQ-QQQ-...\n",
        "        Break down a large problem into parts\n",
        "        Alternative approaches to a problem\n",
        "        Sequence of related problems, \"vignettes\"\n",
        "        Follow-up problems"
      ]
    },
    {
      "cell_type": "markdown",
      "source": [
        "## Qualitative:\n",
        "\n",
        "    ·Question, Problem, Hypothesis, Claim, Context, Motivation:\n",
        "        - Question:\n",
        "            Do videos of action games arouse significant more toxic comments than non-action games in YouTube?\n",
        "            Is gaming category a primary predictor for toxic comments in YouTube?\n",
        "        - Hypothesis:\n",
        "            We assume action game(including violence scene) will trigger significant more toxicity in YouTube, and different categories of games present different level of toxicity.\n",
        "        - Context:\n",
        "            Online gaming toxicity refers to harmful and negative conversations within the gaming community, presenting a serious issue across social media platforms. This behavior often involves the use of offensive language, insults, harassment, or even threats exchanged among players. It negatively impacts the harmony of the gaming community and social media platforms, fostering resentment and animosity among people and adversely affecting people’s mental health, especially teenagers.\n",
        "        - Motivation:\n",
        "            Addressing and mitigating online gaming toxicity is crucial for fostering a positive and inclusive gaming culture. If we can identify the main factors and predictors of online gaming toxicity, we can efficiently prevent and regulate this problem, providing valuable insights to gaming industry, gaming design, gaming community management, social media platform, and gamers. It would contribute to creating a healthier and more enjoyable online gaming environment while also aiding in the prevention of cyberbullying and game-related mental health problems.\n",
        "        \n",
        "    ·Definitions, Data, Methods to be Used:\n",
        "        - Definitions:\n",
        "            Online gaming toxicity refers to the use of harmful and negative language within the gaming community. Our focus was on the YouTube platform, specifically examining comments under gaming videos of each category. Our research novelty lies in that we address this issue from the perspective of gaming observation rather than real-time gameplay.\n",
        "        - Data:\n",
        "            We scraped videos under 33 English-Speaking YouTube channels from a list of top 100. For each channel, we select 30 video for action games and 30 for non-action games. We get 63442 comment records for antion game and 75760 comment records for non-action game(139202 comment records in total).\n",
        "        - Methods:\n",
        "            In data collection phase we use YouTube API key to get access to chosen YouTube channels. We perform text cleaning on the collected data by removing missing values and unnecessary tokens through tokenization and regular expressions. Subsequently, we use the Perspective API to assess toxicity levels, and leverage NLP sentiment analysis tools such as Vader, TextBlob, and Empath to evaluate the emotional tone of the comments. Finally, we apply data visualization techniques to enhance the presentation of our analysis results.\n",
        "        \n",
        "    ·Assumptions, Biases:\n",
        "        - Assumptions:\n",
        "            YouTube comments are free-speech and not-filtered seriously.\n",
        "        - Biases:\n",
        "            We use predifined keywords list to fetch videos, which may not be representative enough\n",
        "            We retrieve 100 comments under each video, provided by the default order on YouTube, which may introduce bias."
      ],
      "metadata": {
        "id": "Y87X6szOT0sy"
      },
      "id": "Y87X6szOT0sy"
    },
    {
      "cell_type": "code",
      "source": [],
      "metadata": {
        "id": "QtkHHvLRTtcO"
      },
      "id": "QtkHHvLRTtcO",
      "execution_count": null,
      "outputs": []
    },
    {
      "cell_type": "markdown",
      "source": [
        "## Qualitative:"
      ],
      "metadata": {
        "id": "9dYUZwCOUB59"
      },
      "id": "9dYUZwCOUB59"
    },
    {
      "cell_type": "markdown",
      "source": [
        "## Qualitative:\n",
        "\n",
        "    ·Answer, update question/claim, summary, re-contextualization, story, relate to domain knowledge\n",
        "        - Answer: Our preliminary analysis indicates that the game category is not a significant factor in online gaming toxicity. The toxicity, emotional tone, and word cloud analysis for both action and non-action games show no substantial differences.\n",
        "        - Updated Question:\n",
        "            What are the primary factors or predictors of online gaming toxicity?\n",
        "            \n",
        "        - Relate to Domain Knowledge: This finding challenges the common assumption that game category alone influences toxicity levels. It prompts a deeper exploration into the intricate factors contributing to online gaming toxicity. One possible reason is the gaming observer is a different group of game players. Another reason is the game culture in YouTube gaming community is positive and kind, differ from other gaming communities.\n",
        "\n",
        "\n",
        "    ·Uncertainty, limitations, caveats\n",
        "        - Uncertainty and limitations:\n",
        "            - We are not sure the fairness of our data although we fetch large amount of comments for analysis.\n",
        "            - Our dataset is derived exclusively from top YouTube gaming channels, potentially introducing bias and limiting the generalizability of our findings to broader gaming communities.\n",
        "            - The predefined keyword list used for video selection might not encompass the entire spectrum of gaming content, omitting potential influential videos.\n",
        "        - Caveats:\n",
        "            - Our study focuses on English-language comments, limiting applicability to non-English gaming communities.\n",
        "            - The Perspective API's predefined toxicity thresholds may not fully align with subjective perceptions of offensive content in gaming community.\n",
        "\n",
        "    ·New problems, next steps\n",
        "        - New problems:\n",
        "            We observed a significant imbalance in the like-counts among comments under the same video. Certain comments received exceptionally high like-counts, what are the factors driving this phenomenon?\n",
        "            Considering that YouTube employs its own comment filtering mechanism, the prevalence of 'toxic' comments may be limited. Can we observe obvious pattern if we analyse other emotion dimension such as disappointment, discouragement or unsatisfication?\n",
        "            \n",
        "        - Next steps:\n",
        "\n",
        "\n"
      ],
      "metadata": {
        "id": "ErgRrmn0Yh-M"
      },
      "id": "ErgRrmn0Yh-M"
    }
  ],
  "metadata": {
    "kernelspec": {
      "display_name": "Python 3 (ipykernel)",
      "language": "python",
      "name": "python3"
    },
    "language_info": {
      "codemirror_mode": {
        "name": "ipython",
        "version": 3
      },
      "file_extension": ".py",
      "mimetype": "text/x-python",
      "name": "python",
      "nbconvert_exporter": "python",
      "pygments_lexer": "ipython3",
      "version": "3.10.9"
    },
    "colab": {
      "provenance": []
    }
  },
  "nbformat": 4,
  "nbformat_minor": 5
}