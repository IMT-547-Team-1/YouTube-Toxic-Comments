{
 "cells": [
  {
   "cell_type": "markdown",
   "id": "9d23eb7e",
   "metadata": {
    "id": "9d23eb7e"
   },
   "source": [
    "# IMT 547 Final Project: Phase 1"
   ]
  },
  {
   "cell_type": "markdown",
   "id": "ad865bf5-3b8a-47b8-a100-797e4e5f8102",
   "metadata": {},
   "source": [
    "Team 1: Chesie Yu, Hongfan Lu, Bella Wei"
   ]
  },
  {
   "cell_type": "markdown",
   "id": "666d35a4-bb4d-428f-96ce-a060558064c9",
   "metadata": {},
   "source": [
    "02/19/2024"
   ]
  },
  {
   "cell_type": "markdown",
   "id": "c977adf3-e77d-49ec-9c1c-ddcff735cb62",
   "metadata": {},
   "source": [
    "  "
   ]
  },
  {
   "cell_type": "markdown",
   "id": "22554d6a",
   "metadata": {
    "id": "22554d6a"
   },
   "source": [
    "## Project Overview: YouTube Gaming Comments Toxicity\n",
    "\n",
    "**Team name**: _Team 1_  \n",
    "**Team members**: _Chesie Yu, Hongfan Lu, Bella Wei_  \n",
    "\n",
    "**Problem Description**:  \n",
    "Toxicity in the gaming community is a prevalent problem that hinders the harmonious development of the gaming industry. Our objective is to tackle this concern by exploring whether the game category (Action and Non-Action) serves as a primary determinant of toxicity levels in YouTube video comments. This study focuses on the observational perspective rather than the player angle. If proven, it can offer valuable insights for gaming community management, game design, and the design of social media platforms.  "
   ]
  },
  {
   "cell_type": "markdown",
   "id": "72412014",
   "metadata": {
    "id": "72412014"
   },
   "source": [
    "### RQ1:  \n",
    " \n",
    "- Do videos of action games arouse significant more toxic comments than non-action games in YouTube?  \n",
    "- Our project is interested in investigating sections for action and non-action based gaming videos on YouTube.  \n",
    "- We hypothesis that there will be different type of emotions represented in the comment section;   \n",
    "- Moreover, the occurance of profanity might be higher in the action based gaming videos.   "
   ]
  },
  {
   "cell_type": "markdown",
   "id": "5955f4df",
   "metadata": {
    "id": "5955f4df"
   },
   "source": [
    "### RQ2:   \n",
    "\n",
    "- Which kinds of gaming video attract most toxic comments? Any pattern behind the scene?  \n",
    "- How does YouTubers' contents, characteristics and behaviors influence toxicity in comments section.  "
   ]
  },
  {
   "cell_type": "markdown",
   "id": "7797fc6f-d047-4b96-bffb-5b44b4197251",
   "metadata": {
    "id": "7797fc6f-d047-4b96-bffb-5b44b4197251"
   },
   "source": [
    "   "
   ]
  },
  {
   "cell_type": "markdown",
   "id": "2106e8e2-9eba-48c7-bd11-5915a08e7115",
   "metadata": {},
   "source": [
    "___"
   ]
  },
  {
   "cell_type": "markdown",
   "id": "55e6e399-f741-4c32-b941-564d2f693d7b",
   "metadata": {},
   "source": [
    "  "
   ]
  },
  {
   "cell_type": "markdown",
   "id": "Y87X6szOT0sy",
   "metadata": {
    "id": "Y87X6szOT0sy",
    "tags": []
   },
   "source": [
    "## Qualitative:\n",
    "\n",
    "### Question, Problem, Hypothesis, Claim, Context, Motivation    \n",
    "\n",
    "**Question**:      \n",
    "- Do videos of action games arouse significant more toxic comments than non-action games in YouTube?  \n",
    "- Is gaming category a primary predictor for toxic comments in YouTube?   \n",
    "\n",
    "\n",
    "**Hypothesis**:  \n",
    "\n",
    "We assume action game(including violence scene) will trigger significant more toxicity in YouTube, and different categories of games present different level of toxicity.   \n",
    "\n",
    "\n",
    "**Context**:\n",
    "\n",
    "Online gaming toxicity refers to harmful and negative conversations within the gaming community, presenting a serious issue across social media platforms. This behavior often involves the use of offensive language, insults, harassment, or even threats exchanged among players. It negatively impacts the harmony of the gaming community and social media platforms, fostering resentment and animosity among people and adversely affecting people’s mental health, especially teenagers.    \n",
    "\n",
    "\n",
    "**Motivation**:  \n",
    "\n",
    "Addressing and mitigating online gaming toxicity is crucial for fostering a positive and inclusive gaming culture. If we can identify the main factors and predictors of online gaming toxicity, we can efficiently prevent and regulate this problem, providing valuable insights to gaming industry, gaming design, gaming community management, social media platform, and gamers. It would contribute to creating a healthier and more enjoyable online gaming environment while also aiding in the prevention of cyberbullying and game-related mental health problems.  "
   ]
  },
  {
   "cell_type": "markdown",
   "id": "b43d8b34-0232-4316-b8f9-d7b82d99da2d",
   "metadata": {},
   "source": [
    "  "
   ]
  },
  {
   "cell_type": "markdown",
   "id": "a43e3dc3-3cee-4095-a3e3-b73b1afde6d9",
   "metadata": {},
   "source": [
    "### Definitions, Data, Methods to be Used  \n",
    "\n",
    "**Definitions**:  \n",
    "\n",
    "Online gaming toxicity refers to the use of harmful and negative language within the gaming community. Our focus was on the YouTube platform, specifically examining comments under gaming videos of each category. Our research novelty lies in that we address this issue from the perspective of gaming observation rather than real-time gameplay.  \n",
    "\n",
    "**Data**:  \n",
    "\n",
    "We scraped videos under 33 English-Speaking YouTube channels from a list of top 100. For each channel, we select 30 video for action games and 30 for non-action games. We get 63442 comment records for antion game and 75760 comment records for non-action game(139202 comment records in total).    \n",
    "\n",
    "**Methods**:  \n",
    "\n",
    "In data collection phase we use YouTube API key to get access to chosen YouTube channels. We perform text cleaning on the collected data by removing missing values and unnecessary tokens through tokenization and regular expressions. Subsequently, we use the Perspective API to assess toxicity levels, and leverage NLP sentiment analysis tools such as Vader, TextBlob, and Empath to evaluate the emotional tone of the comments. Finally, we apply data visualization techniques to enhance the presentation of our analysis results.   \n"
   ]
  },
  {
   "cell_type": "markdown",
   "id": "7fd4b994-6ef9-4bd1-8594-8a0fc079ea94",
   "metadata": {},
   "source": [
    "     "
   ]
  },
  {
   "cell_type": "markdown",
   "id": "e202b040-a381-4484-9764-c0f6a6f96b6c",
   "metadata": {
    "tags": []
   },
   "source": [
    "### Assumptions, Biases  \n",
    "\n",
    "**Assumptions**:\n",
    "YouTube comments are free-speech and not-filtered seriously.   \n",
    "\n",
    "**Biases**:\n",
    "We use predifined keywords list to fetch videos, which may not be representative enough.  \n",
    "We retrieve 100 comments under each video, provided by the default order on YouTube, which may introduce bias.  "
   ]
  },
  {
   "cell_type": "markdown",
   "id": "81c1dcbb-ddce-4f86-945d-f575142ac9fc",
   "metadata": {},
   "source": [
    "  "
   ]
  },
  {
   "cell_type": "markdown",
   "id": "1583d517-ce9f-4860-9f50-5e6732ab75e1",
   "metadata": {},
   "source": [
    "___"
   ]
  },
  {
   "cell_type": "markdown",
   "id": "ab54a912-574e-414b-a7c9-8293c6647a55",
   "metadata": {},
   "source": [
    "  "
   ]
  },
  {
   "cell_type": "markdown",
   "id": "209ee638-bcf0-4384-9b73-11841b3b18a0",
   "metadata": {
    "id": "QtkHHvLRTtcO"
   },
   "source": [
    "## Quantitative: "
   ]
  },
  {
   "cell_type": "markdown",
   "id": "c50e6ada",
   "metadata": {
    "id": "c50e6ada"
   },
   "source": [
    "### Data Collection Procedure   \n",
    "\n",
    "1\\. Utilizing **YouTube Data API** to access Youtube comments  \n",
    "    \n",
    "2\\. Keyword selection  \n",
    "\n",
    "**Keywords for Action Games**:   \n",
    "action_keywords = [\"call of duty\", \"gta\", \"the last of us\", \"god of war\", \"batman\", \"red dead redemption\", \"assassin's creed\", \"star wars jedi\", \"resident evil\", \"cyberpunk\", \"fallout\", \"tomb raider\", \"elden ring\"]     \n",
    "        \n",
    "**Keywords for NonAction Games**:   \n",
    "nonaction_keywords = [\"minecraft\", \"pokemon go\", \"just dance\", \"it takes two\", \"uncharted\", \"brawl stars\"]    \n",
    "            \n",
    "3\\. Found 33 English-Speaking youtubers from a list of top 100 (ranked by number of subscriber)  \n",
    "    \n",
    "4\\. For each Youtuber, select 30 video for action games and 30 for non-action games  \n",
    "    \n",
    "5\\. Use Relevance (YouTube internal algo) to extract 100 comments each video  "
   ]
  },
  {
   "cell_type": "markdown",
   "id": "d59d63fd-6802-46c4-94de-6470d124bc2b",
   "metadata": {},
   "source": [
    " "
   ]
  },
  {
   "cell_type": "markdown",
   "id": "9d140402-49a5-4d31-88aa-dbf51ca78be4",
   "metadata": {
    "id": "9d140402-49a5-4d31-88aa-dbf51ca78be4"
   },
   "source": [
    "### Notebook: 01-data-collection  \n",
    "\n",
    "The detailed data collection code and description can be found in **`01-data-collection.ipynb`**.  Here we will only include a brief overview for readability.  Our data collection phase is divide into 3 components:  \n",
    "\n",
    "1\\. **Authentication & Configuration**: Prepared the necessary tools and configuration for our later data collection  \n",
    "- Set up the YouTube API key  \n",
    "- Install and import necessary libraries  \n",
    "- Configure the logging system  \n",
    "- Initialize a client that can communicates with YouTube API    \n",
    "\n",
    "\n",
    "2\\. **Utility Function**: Encapsulated a series of necessary operations into functions.   \n",
    "- **`get_uploads_id(channel_id)`**: Fetch the uploads playlist ID for a given YouTube channel.  \n",
    "- **`get_video_ids(uploads_id, max_videos=30, keywords=“”)`**: Fetch 30 video IDs containing keyword in a given upload playlist.   \n",
    "- **`get_video_info(video_ids)`**: Fetch necessary video info from a list of YouTube videos.  \n",
    "     **Video Features**: [“channel_id”, “channel_name”, “video_id”, “video_title”, “video_creation_time”, “video_description”, “video_tags”, “video_viewcount”, “video_likecount”, \"video_commentcount\"]             \n",
    "- **`get_video_comments(video_ids, max_comments=100)`**: Fetch comments (100 max each) for a list of videos.  \n",
    "     **Comment Features**: [“video_id”, “comment_id”, “comment_author_id”, “comment_text”, “comment_time”, “comment_likecount”, \"comment_replycount\"]     \n",
    "- **`get_youtube_data(channel_ids, max_videos=30, max_comments=100, keywords=“”)`**: Main function. Fetch videos and comments for a list of channels   \n",
    "     \n",
    "\n",
    "3\\. **Data Collection**     \n",
    "- Set up the parameters(max 100 comments under max 30 videos for each YouTube channel) and keywords list for ‘Action’ and ‘Non-Action’ game category  \n",
    "- Read a self-built document ‘top 100 popular gaming YouTubers’ as our targeted channels, filtering only english-speaking channels  \n",
    "- Collect and combine comment infos for action and non-action games   \n",
    "- Get and save 139202 comments records   "
   ]
  },
  {
   "cell_type": "markdown",
   "id": "15f9406e-7dc8-427c-9672-9735c4b2c932",
   "metadata": {},
   "source": [
    "  "
   ]
  },
  {
   "cell_type": "markdown",
   "id": "06780eb3-6d1e-4427-9e48-45f35bb719d8",
   "metadata": {},
   "source": [
    "### Data Processing"
   ]
  },
  {
   "cell_type": "markdown",
   "id": "ced295a7-9d64-4bf8-a868-098665a81d61",
   "metadata": {
    "id": "ced295a7-9d64-4bf8-a868-098665a81d61"
   },
   "source": [
    "### Notebook: 02-preprocessing    \n",
    "\n",
    "Our data preprocessing is divided into 3 components:\n",
    "    \n",
    "1\\. **Data Cleaning**    \n",
    "- **Handle Missings**: **991 rows with missing values; 138211 rows left after removing NA**   \n",
    "- **Convert Data Types**: Convert time-related columns into datetime data type:   \n",
    "    Comments are from a range of time in **('2011-04-22T01:05:52Z', '2024-02-18T20:15:11Z')**  \n",
    "- A total of 1435 unique videos are included   "
   ]
  },
  {
   "cell_type": "markdown",
   "id": "fa10fc86-257d-480d-abaa-d184f7ae1d52",
   "metadata": {
    "id": "9dYUZwCOUB59"
   },
   "source": [
    "![YouTube Data Summary Statistics](summary-statistics.png)"
   ]
  },
  {
   "cell_type": "markdown",
   "id": "328e7366-988a-4da6-b0d6-cb23b1aa589d",
   "metadata": {},
   "source": [
    "2\\. **Text Preprocessing**\n",
    "- Filter English comments only \n",
    "- Do text cleaning by removing unimportant content such as URLs, mentions and stop words.\n",
    "- Tokenization and save results into the dataframe  "
   ]
  },
  {
   "cell_type": "markdown",
   "id": "e90228f5-9a9b-47a7-9ba8-f7dc97131e26",
   "metadata": {},
   "source": [
    "![Text Cleaning](text-cleaning.png)"
   ]
  },
  {
   "cell_type": "markdown",
   "id": "f5065c07-1bcc-4ce0-a777-37287689c3bb",
   "metadata": {},
   "source": [
    "3\\. **Data Labeling**  \n",
    "\n",
    "- Toxicity scores by perspective API  \n",
    "- Sentiment scores by VADER, TextBlob and Empath  "
   ]
  },
  {
   "cell_type": "markdown",
   "id": "97e68176-93b4-4da9-b34b-57e1eade9c4c",
   "metadata": {},
   "source": [
    "#### Toxicity Annotations: Perspective API"
   ]
  },
  {
   "cell_type": "markdown",
   "id": "8a59bf86-b95f-4d40-9deb-55110d7a313e",
   "metadata": {},
   "source": [
    "![Perspective API Keys](perspective-keys.png)"
   ]
  },
  {
   "cell_type": "markdown",
   "id": "57adf8cc-66e4-4f36-818d-c2964d714c11",
   "metadata": {},
   "source": [
    "![Perspective head](perspective-api-head.png)"
   ]
  },
  {
   "cell_type": "markdown",
   "id": "ec8c2441-76f6-40b3-91cb-3d05ffe99b8e",
   "metadata": {},
   "source": [
    "![Toxicity Distribution](01a-toxicity-distribution.png)"
   ]
  },
  {
   "cell_type": "markdown",
   "id": "d153851c-b00e-494b-9d3f-de06485f6487",
   "metadata": {},
   "source": [
    "**The graph above is showing the percentage of comments that are tagged with the six dimensions of Perspective API;**   \n",
    "\n",
    "- is_toxicity (> 0.3) identified around 13% of all data and it is the largest bucket identified.   \n",
    "\n",
    "- is_identity_attack (> 0.3) identify the least number of comments among the six identifiers."
   ]
  },
  {
   "cell_type": "markdown",
   "id": "e23c0dfa-9ca3-4433-b6b9-7097e300c656",
   "metadata": {},
   "source": [
    "  "
   ]
  },
  {
   "cell_type": "markdown",
   "id": "935bdafe-89ad-4e84-b96e-e8287bf63076",
   "metadata": {},
   "source": [
    "#### Sentiment Scoring: VADER/TextBlob/Empath"
   ]
  },
  {
   "cell_type": "markdown",
   "id": "a7549daf-dfc5-4061-9760-f35ec53b0fd9",
   "metadata": {},
   "source": [
    "![Vader by genre](02a-sentiment-vader-by-genre.png)"
   ]
  },
  {
   "cell_type": "markdown",
   "id": "6abbbb86-e873-4d8d-bc81-6ee67bdd808a",
   "metadata": {},
   "source": [
    "![TextBlob by genre](02b-sentiment-textblob-by-genre.png)"
   ]
  },
  {
   "cell_type": "markdown",
   "id": "3f91ce3e-924e-4b24-8297-092478128a99",
   "metadata": {},
   "source": [
    "![Empath by genre](02c-sentiment-empath-by-genre.png)"
   ]
  },
  {
   "cell_type": "markdown",
   "id": "ed182652-da03-4cf5-bfca-5c05eec5169a",
   "metadata": {},
   "source": [
    "**The above three graphs measure the sentiment scores measure by Vader, TextBlob and Empath respectively.**  \n",
    "\n",
    "- We can observe that the overall distribution of action and non-action videos' sentiment scores are extremely close, amost overlapped;   \n",
    "\n",
    "- however, the vertical dotted lines, which are the mean of either action or non-action sentiments scores, are also quite close to each other.   \n",
    "\n",
    "- From Vader, we can say that action videos are showing more sentiments, positive and negative alike, and less neutrality.  "
   ]
  },
  {
   "cell_type": "markdown",
   "id": "e97d9181-ef0e-4c55-aa3b-7339e96082d8",
   "metadata": {},
   "source": [
    "  "
   ]
  },
  {
   "cell_type": "markdown",
   "id": "77675bda-ba1f-4fa1-af26-36afa6ac44dc",
   "metadata": {},
   "source": [
    "### Preliminary Analysis"
   ]
  },
  {
   "cell_type": "markdown",
   "id": "df4d8017-16f3-4b44-b817-c501309261ab",
   "metadata": {},
   "source": [
    "#### Toxicity by Game"
   ]
  },
  {
   "cell_type": "markdown",
   "id": "3b763c51-83c5-4076-90c0-bf4e56e7b324",
   "metadata": {},
   "source": [
    "![Toxicity By Games](toxicity-by-game.png)"
   ]
  },
  {
   "cell_type": "markdown",
   "id": "23e10bc4-b608-41c6-a0fd-25e02dccdae3",
   "metadata": {},
   "source": [
    "**In the bar chart above:**  \n",
    "\n",
    "- there is a pattern that action games tend to squeezed on the left hand side, which indicates higher Toxicity score.  \n",
    "\n",
    "- while non- action games like minecraft, tend to squeeze on the lower Toxicity scores side  \n",
    "\n",
    "- P.S You may see many game names are a combination of several games like 'call of duty, minecraft', this is becuase that minecraft allow player to use the gaming skins from other games.  \n",
    "\n",
    "- In other cases where multiple games are capture together, the reason might be that it is a video about both games but these situations are rare overall.  "
   ]
  },
  {
   "cell_type": "markdown",
   "id": "76fa1278-4a80-40be-b80a-c34851cb7cb6",
   "metadata": {},
   "source": [
    "   "
   ]
  },
  {
   "cell_type": "markdown",
   "id": "82c4403d-79cd-4e2c-afb4-003c5d80e89f",
   "metadata": {},
   "source": [
    "#### Toxicity by Channel"
   ]
  },
  {
   "cell_type": "markdown",
   "id": "7bf76d52-5b5e-4d98-968d-06e02434f438",
   "metadata": {},
   "source": [
    "![Toxicity by YouTubers](toxicity-by-channel.png)"
   ]
  },
  {
   "cell_type": "markdown",
   "id": "d2cc16eb-78d7-4f89-bdaf-2c91c5bea28c",
   "metadata": {},
   "source": [
    "**In the bar graph above, we observe an obvious difference in the mean toxicity scores of different YouTuber.**\n",
    "\n",
    "To Investigate if the rootcause is that the higher proportion of action videos might lead to higher toxicity score we plotted the charts below.  "
   ]
  },
  {
   "cell_type": "markdown",
   "id": "7f08a48a-2e45-4f99-ac7e-8a0d18c4e305",
   "metadata": {},
   "source": [
    "![Action/Non-Action Proportion](action-non-action-proportion-by-channel.png)"
   ]
  },
  {
   "cell_type": "markdown",
   "id": "ad663a85-4cce-4957-876e-cb6f98694d91",
   "metadata": {},
   "source": [
    "**For some players that play mostly non-action games, it seems like they tend to have lower toxicity scores.**  \n",
    "\n",
    "Below is a more detailed breakdown.  "
   ]
  },
  {
   "cell_type": "markdown",
   "id": "72c9d0b1-7452-412b-9521-39b4e1f99a72",
   "metadata": {},
   "source": [
    "![action_vid_percent_toxicity](action-video-toxicity-proportion.png)"
   ]
  },
  {
   "cell_type": "markdown",
   "id": "307e7ddc-ab69-4cc1-8e91-a53765e834b8",
   "metadata": {},
   "source": [
    "![Action/Non-Action videos posted by each YouTuber](action-video-proportion-vs-toxicity.png)"
   ]
  },
  {
   "cell_type": "markdown",
   "id": "b1b57ef3-7e3c-4c2b-850a-4016f41b5586",
   "metadata": {},
   "source": [
    "**We plotted a scatter plot with trend line above. We can observe a positive relationship between Percent of Action Video in Youtuber's channel and the mean toxicity scores**   \n",
    "\n",
    "- however, there are a few exception like 'Tommyinit', this youtuber mainly post non-action games videos.   \n",
    "\n",
    "- But his toxicity score is pretty high. We assume the underlying reasons might be his content, his characteristics, or his language habit;  \n",
    "\n",
    "- We plan to further investigate in the future by aalyzing the transcripts so that we can make relationships between video contents and comments section atmosphere.  "
   ]
  },
  {
   "cell_type": "markdown",
   "id": "d32ec189-fca7-47e6-a406-b615c60743f1",
   "metadata": {},
   "source": [
    "    "
   ]
  },
  {
   "cell_type": "markdown",
   "id": "82e59687-6c96-4d1f-9241-3efdd6fc02d0",
   "metadata": {},
   "source": [
    "#### Word Clouds: All Comments"
   ]
  },
  {
   "cell_type": "markdown",
   "id": "bf9122a0-e52d-4b99-a935-8acfc38242c0",
   "metadata": {},
   "source": [
    "![wordcloud_all](04a-wordcloud-all-comments.png)"
   ]
  },
  {
   "cell_type": "markdown",
   "id": "ae365061-bd09-4681-841a-9552bffedeee",
   "metadata": {},
   "source": [
    "#### Word Cloud: Action Game Comments"
   ]
  },
  {
   "cell_type": "markdown",
   "id": "4e2992f6-d6ad-49fe-900c-367b94f48c41",
   "metadata": {
    "tags": []
   },
   "source": [
    "![wordcloud_action](04b-wordcloud-action.png)"
   ]
  },
  {
   "cell_type": "markdown",
   "id": "4e1fb63c-3de3-4775-b403-ee7fc7470a56",
   "metadata": {},
   "source": [
    "#### Word Cloud: Non-Action Game Comments"
   ]
  },
  {
   "cell_type": "markdown",
   "id": "ed4a08ee-a074-422a-9626-cab1bb4abfa2",
   "metadata": {},
   "source": [
    "![wordcloud_nonaction](04c-wordcloud-nonaction.png)"
   ]
  },
  {
   "cell_type": "markdown",
   "id": "e38e2527-b8ee-4280-9a2c-6f028776f71b",
   "metadata": {},
   "source": [
    "**In these 3 word clouds we do not observe eye-catching difference. It indicates the language use in action and non-action game is not very different.**  "
   ]
  },
  {
   "cell_type": "markdown",
   "id": "3e57b5b7-08ee-467c-b0b9-d90fcbd501a5",
   "metadata": {},
   "source": [
    "  "
   ]
  },
  {
   "cell_type": "markdown",
   "id": "ebdd1517-efc7-4152-b0f2-da85c2a4bf7b",
   "metadata": {},
   "source": [
    "___"
   ]
  },
  {
   "cell_type": "markdown",
   "id": "ced3959b-f950-4818-98f0-2a74c742badf",
   "metadata": {},
   "source": [
    "  "
   ]
  },
  {
   "cell_type": "markdown",
   "id": "ErgRrmn0Yh-M",
   "metadata": {
    "id": "ErgRrmn0Yh-M"
   },
   "source": [
    "## Qualitative  \n",
    "\n",
    "### Answer, update question/claim, summary, re-contextualization, story, relate to domain knowledge  \n",
    "\n",
    "**Answer**:   \n",
    "From our preliminary research, the action games tend to have a little higher toxicity, while may not be a reliable determinent and the influence is not strong. Also the sentiments of action and non-action games do not have obvious difference, but action games tend to arouse stronger emotions.  \n",
    "\n",
    "**Updated Question**:    \n",
    "What are other primary factors or predictors of online gaming toxicity?\n",
    "What are the factors influence the overall sentiment and atmosphere of YouTube comment section？YouTuber's content, topic, characteristic or language habit?\n",
    "            \n",
    "**Relate to Domain Knowledge**:   \n",
    "This finding challenges the common assumption that game category is a strong factors which influences toxicity levels and sentiment. It prompts a deeper exploration into the intricate factors contributing to online gaming toxicity. One possible reason is the gaming observer is a different group from game players. Another reason is the game culture in YouTube gaming community is overall positive and kind, which makes the comments fairly positive.  "
   ]
  },
  {
   "cell_type": "markdown",
   "id": "66749e3c-ea68-4490-a47a-8db34a126481",
   "metadata": {},
   "source": [
    "  "
   ]
  },
  {
   "cell_type": "markdown",
   "id": "12ee9b81-69a3-48c2-a82f-897fdec2585e",
   "metadata": {},
   "source": [
    "### Uncertainty, limitations, caveats  \n",
    "\n",
    "**Uncertainty and limitations**:\n",
    "- We are not sure the fairness of our data although we fetch quite large amount of comments(130000+) for analysis.    \n",
    "\n",
    "- Our dataset is derived exclusively from top YouTube gaming channels, potentially introducing bias and limiting the generalizability of our findings to broader gaming communities.    \n",
    "\n",
    "- The predefined keyword list used for video selection might not encompass the entire spectrum of gaming content, omitting potential influential videos.  \n",
    "\n",
    "\n",
    "**Caveats**:  \n",
    "- Our study focuses on English-language comments, limiting applicability to non-English gaming communities.  \n",
    "\n",
    "- The Perspective API's predefined toxicity thresholds may not fully align with subjective perceptions of offensive content in gaming community.  "
   ]
  },
  {
   "cell_type": "markdown",
   "id": "52217a8a-9c79-40d2-b12a-1ab33f7b6c95",
   "metadata": {},
   "source": [
    "  "
   ]
  },
  {
   "cell_type": "markdown",
   "id": "7eb09b6e-0be5-4046-a035-8ed9d3b3327f",
   "metadata": {},
   "source": [
    "### New problems, next steps  \n",
    "**New problems**:  \n",
    "\n",
    "We observed a significant imbalance in the like-counts among comments under the same video. Certain comments received exceptionally high like-counts, what are the factors driving such popular comments?    \n",
    "\n",
    "Considering that YouTube employs its own comment filtering mechanism, the prevalence of 'toxic' comments may be limited. Can we observe obvious pattern if we analyse other emotion dimension such as disappointment, discouragement or unsatisfication?    \n",
    "\n",
    "We clearly observed different atmosphere under different youtube channel/videos. What drives such difference?     \n",
    "\n",
    "**Next steps**:\n",
    "- Explore other factors that might influence toxicity levels: content, language habit, YouTuber characteristic and topic.  \n",
    "    - Collect video transcripts for video content analysis, examining the relationship between content and toxicity, as well as the relationship between language use and toxicity.   \n",
    "    - Collect video transcripts for YouTuber language use analysis, investigating the relationship between language use and toxicity.      \n",
    "    - Define different gaming Youtuber characteristics, such as serious, humourous, educational, interactive and emthusiastic, and explore the relationship between different YouTubers' characteristic and toxicity.    \n",
    "    - Define different video topics, such as game reviews, game walkthroughs and guidance, game comparisons (such as 'I quit A for B'), game first impressions/reactions, etc., and explore the relationship between different gaming topics and toxicity.   \n",
    "\n",
    "                \n",
    "- Explore the factors influencing engagement in gaming videos and comments.  \n",
    "    - Collect information about the popularity of videos/comments, such as like-count and reply-count.  \n",
    "    - Analyze engagement data to gain insights into which types of gaming videos are more likely to go viral, as well as comments.  \n",
    "                "
   ]
  },
  {
   "cell_type": "markdown",
   "id": "5844e0cd-ceba-4ab3-ba92-12aa01ef9acb",
   "metadata": {},
   "source": [
    "  "
   ]
  },
  {
   "cell_type": "markdown",
   "id": "09274e06-9057-443d-8482-a919a433d6f8",
   "metadata": {},
   "source": [
    "___"
   ]
  },
  {
   "cell_type": "markdown",
   "id": "7ccd1146-a9c7-426b-8cc3-dfe64a5bcc30",
   "metadata": {},
   "source": [
    "  "
   ]
  },
  {
   "cell_type": "markdown",
   "id": "138c523e-579d-42b7-a5e1-656871d2b1d1",
   "metadata": {
    "tags": []
   },
   "source": [
    "## Credit listing:\n",
    "\n",
    "### Chesie Yu    \n",
    "\n",
    "- Buildng code structure   \n",
    "- Writing code/documentations for data collection, data cleaning, text processing, toxicity and sentiment labeling, visualization and preliminary analysis     \n",
    "         \n",
    "### Hongfan Lu  \n",
    "- Writing code for data collection, processing, preliminary analysis and visualization    \n",
    "- Collecting gaming YouTuber channel information   \n",
    "- Generating observations and ideas for future exploration  \n",
    "         \n",
    "### Bella Wei  \n",
    "- Conducting Data collection and analysis  \n",
    "- Writing the ProjectPhase1-Summary-report  \n",
    "     \n",
    "### Collaboration    \n",
    "- Idea Generation  \n",
    "- Literature Review  \n",
    "- Reseach Question Formation  \n",
    "- Workflow Design  \n",
    "- Data collection  \n",
    "- Data collection result Interpretaion and Discussion  \n",
    "- Future direction exploration   "
   ]
  }
 ],
 "metadata": {
  "colab": {
   "provenance": []
  },
  "kernelspec": {
   "display_name": "Python 3 (ipykernel)",
   "language": "python",
   "name": "python3"
  },
  "language_info": {
   "codemirror_mode": {
    "name": "ipython",
    "version": 3
   },
   "file_extension": ".py",
   "mimetype": "text/x-python",
   "name": "python",
   "nbconvert_exporter": "python",
   "pygments_lexer": "ipython3",
   "version": "3.10.13"
  },
  "toc-autonumbering": false,
  "toc-showcode": false,
  "toc-showmarkdowntxt": false,
  "toc-showtags": false
 },
 "nbformat": 4,
 "nbformat_minor": 5
}
