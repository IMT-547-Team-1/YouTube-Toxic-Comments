{
 "cells": [
  {
   "cell_type": "markdown",
   "id": "ceecea29-a34d-4798-a12f-0ce96aea0fdb",
   "metadata": {
    "tags": []
   },
   "source": [
    "# IMT 547 Final Project: Phase 2"
   ]
  },
  {
   "cell_type": "markdown",
   "id": "0e35842f-3a66-416a-9785-8b12eae5e5d3",
   "metadata": {},
   "source": [
    "Team 1: Chesie Yu, Hongfan Lu, Bella Wei"
   ]
  },
  {
   "cell_type": "markdown",
   "id": "28553dc4-e589-45d9-9eac-6867ed56dfc9",
   "metadata": {},
   "source": [
    "02/27/2024"
   ]
  },
  {
   "cell_type": "markdown",
   "id": "bce4989b-f812-4303-ba2e-ad663134fcdd",
   "metadata": {},
   "source": [
    "## Project Overview: YouTube Gaming Comments Toxicity\n",
    "\n",
    "**Team name**: _Team 1_  \n",
    "**Team members**: _Chesie Yu, Hongfan Lu, Bella Wei_  \n",
    "\n",
    "**Problem Description**:  \n",
    "Toxicity in the gaming community is a prevalent problem that hinders the harmonious development of the gaming industry. Our objective is to tackle this concern by exploring whether the game category (Action and Non-Action) serves as a primary determinant of toxicity levels in YouTube video comments. This study focuses on the observational perspective rather than the player angle. If proven, it can offer valuable insights for gaming community management, game design, and the design of social media platforms.  \n",
    "\n",
    "**Initial RQ**:\n",
    "- Do videos of action games arouse significant more toxic comments than non-action games in YouTube?  \n",
    "- Is gaming category a primary predictor for toxic comments in YouTube?  \n",
    "\n",
    "**Initial Findings in Phase 1**:\n",
    "- Videos of action games arouse a little more toxic comments than non-action games, but the influence is not very strong. \n",
    "- Gaming category is not a primary predictor for toxic comments in YouTube.\n"
   ]
  },
  {
   "cell_type": "markdown",
   "id": "2febabd4-670e-4f3e-8b4a-9cad77ac4f67",
   "metadata": {},
   "source": [
    "## Project Progress in Phase 2"
   ]
  },
  {
   "cell_type": "markdown",
   "id": "322e2706-a394-410f-9911-dbb884a14caa",
   "metadata": {},
   "source": [
    "## Qualitative:\n",
    "\n",
    "### Question, Problem, Hypothesis, Claim, Context, Motivation    \n",
    "**Question**: \n",
    "- Do videos with higher toxicity in the transcript trigger more toxic comments?\n",
    "- Do YouTubers who frequently use toxic language elicit more toxic comments?\n",
    "- What are the most common topics in toxic videos compared to harmonious videos?\n",
    "\n",
    "**Hypothesis**:  \n",
    "- Videos with higher toxicity in the transcript are likely to elicit more toxic comments.\n",
    "- YouTubers who use more toxic language are likely to trigger more toxic comments.\n",
    "- Topics in toxic videos are expected to involve more violence, war, and fights compared to harmonious videos.\n",
    "\n",
    "**Motivation**:  \n",
    "In this phase, we focus on investigating the relationship between video content and the comment section. If we can identify patterns or causal relationships in the video content and user interactions within the comment section, we can offer insightful suggestions to social media platforms on how to prevent toxic comments. This could involve censoring potentially harmful video content before it leads to toxic interactions and has a widespread negative impact."
   ]
  },
  {
   "cell_type": "markdown",
   "id": "9d0bd055-fd36-4c8a-99f7-367527dc3149",
   "metadata": {},
   "source": [
    "### Definitions, Data, Methods to be Used  \n",
    "\n",
    "**Data**:  \n",
    "\n",
    "We scraped videos under 33 English-Speaking YouTube channels from a list of top 100. For each channel, we select 30 video for action games and 30 for non-action games. In Phase two, for each video, we got the transcript for further analysis and comparison.\n",
    "\n",
    "\n",
    "**Methods**:  \n",
    "\n",
    "We use the yt-dlp package to gain access to YouTube video transcripts. We then divide the lengthy transcript into separate small chunks with overlapping to preserve context. Different weights are assigned to various parts of the transcript, and the toxicity score is calculated using the Perspective API.\n"
   ]
  },
  {
   "cell_type": "markdown",
   "id": "d8b7fb21-3dc0-49d4-9f75-6093bee6f63c",
   "metadata": {},
   "source": [
    "### Assumptions, Biases  \n",
    "\n",
    "**Assumptions**:\n",
    "- YouTube comments are free-speech and not-filtered seriously.   \n",
    "- YouTube transcript are complete and not filtered seriously.\n",
    "\n",
    "**Biases**:\n",
    "- We use predefined keywords list to fetch videos, which may not be representative enough.  \n",
    "- We retrieve 100 comments under each video, provided by the default order on YouTube, which may introduce bias.\n",
    "- We found that the toxicity in the transcript is much higher than in the comment section. This difference may be attributed to the fact that oral language is more prone to being toxic than written comments. Additionally, some language used during gameplay may not necessarily imply bad intentions and could be less serious in nature."
   ]
  },
  {
   "cell_type": "markdown",
   "id": "31b0830c-79ab-47e4-979f-849d33ca0cd2",
   "metadata": {},
   "source": [
    "## Quantitative: (Procedural Section & New things we do)"
   ]
  },
  {
   "cell_type": "markdown",
   "id": "0b42dfe0-63d7-460d-a46b-c48d8a950c19",
   "metadata": {},
   "source": [
    "### Data Collection Procedure  "
   ]
  },
  {
   "cell_type": "code",
   "execution_count": null,
   "id": "c6be3c55-36b6-4833-99ea-ccf5d3c10822",
   "metadata": {},
   "outputs": [],
   "source": []
  },
  {
   "cell_type": "code",
   "execution_count": null,
   "id": "3aef0e95-8282-4556-88fc-4415866dbe9d",
   "metadata": {},
   "outputs": [],
   "source": []
  },
  {
   "cell_type": "code",
   "execution_count": null,
   "id": "a836c16b-fd6f-4b7b-a44b-7647af199b80",
   "metadata": {},
   "outputs": [],
   "source": []
  },
  {
   "cell_type": "code",
   "execution_count": null,
   "id": "3ae45d55-3392-4d86-8863-da27ec4aaee6",
   "metadata": {},
   "outputs": [],
   "source": []
  },
  {
   "cell_type": "code",
   "execution_count": null,
   "id": "df68b240-d68b-4a2b-a70b-7d99aca2e390",
   "metadata": {},
   "outputs": [],
   "source": []
  },
  {
   "cell_type": "markdown",
   "id": "0a64670c-9f96-4d6a-a41f-ca9209e1aebe",
   "metadata": {},
   "source": [
    "### Data PreProcessing"
   ]
  },
  {
   "cell_type": "code",
   "execution_count": null,
   "id": "14bc09a0-d884-44d0-9ba9-3fcf17e1ec08",
   "metadata": {},
   "outputs": [],
   "source": []
  },
  {
   "cell_type": "code",
   "execution_count": null,
   "id": "e53492a6-b135-4d9b-8f36-ab150abe777c",
   "metadata": {},
   "outputs": [],
   "source": []
  },
  {
   "cell_type": "code",
   "execution_count": null,
   "id": "79ab61be-32c6-44b7-b58b-7d136f55901c",
   "metadata": {},
   "outputs": [],
   "source": []
  },
  {
   "cell_type": "code",
   "execution_count": null,
   "id": "e3ba8476-ed89-45da-8bed-441f54665c87",
   "metadata": {},
   "outputs": [],
   "source": []
  },
  {
   "cell_type": "code",
   "execution_count": null,
   "id": "86f2be5a-d0b6-41f5-82d7-9f520fb8ab4d",
   "metadata": {},
   "outputs": [],
   "source": []
  },
  {
   "cell_type": "markdown",
   "id": "997cbbf6-2c51-46e5-a9aa-f09bb906c47c",
   "metadata": {},
   "source": [
    "## Data Analysis Visualization"
   ]
  },
  {
   "cell_type": "markdown",
   "id": "e38a1899-afec-4d6a-b318-664e27e0decf",
   "metadata": {},
   "source": [
    "### Investigate the relationship between transcript toxicity and comment toxicity through each game.\n",
    "### Visualize the distribution of toxicity in transcript and in comments"
   ]
  },
  {
   "cell_type": "markdown",
   "id": "30921152-dc26-4990-a850-a8bac0f45455",
   "metadata": {},
   "source": [
    "1. GroupBy Game"
   ]
  },
  {
   "cell_type": "markdown",
   "id": "ac02ffdc-7d6d-46b4-a7c5-6ca0462df86e",
   "metadata": {},
   "source": [
    "- Scatterplot"
   ]
  },
  {
   "cell_type": "markdown",
   "id": "e8df2278-7bdf-4032-9092-1e9cce3e47f6",
   "metadata": {
    "tags": []
   },
   "source": [
    "<img src=\"Feb-27/ByGame_Scatter.png\" width=\"50%\">\n"
   ]
  },
  {
   "cell_type": "markdown",
   "id": "5c04047d-bd72-4951-979b-ae4bd37c803a",
   "metadata": {
    "tags": []
   },
   "source": [
    "For each game, we can see that there is a positive correlation relationship between Video Toxicity and Comment Toxicity. Although the scatters are sparse (compared to the graph grouped by channel/youtuber), regplot was able to identify a positive relationship."
   ]
  },
  {
   "cell_type": "markdown",
   "id": "602fe6c3-ac9c-40e0-a0cf-c73eba70f962",
   "metadata": {},
   "source": [
    "- Barplot"
   ]
  },
  {
   "cell_type": "markdown",
   "id": "dd7ec1a5-f846-4cba-9a27-4345ad6ca3ee",
   "metadata": {},
   "source": [
    "<img src=\"Feb-27/ByGame_Barplot.png\" width=\"50%\">\n"
   ]
  },
  {
   "cell_type": "markdown",
   "id": "ce37d40e-bcfe-46c1-9739-1d62563ee310",
   "metadata": {},
   "source": [
    "From this distribution plot, the correlation between comment and transcript toxicity is less obvious. However, we can still observe that the comment toxicity (purple bars) have a higher running average for the top half of the graph is slightly higher than that of the lower half. "
   ]
  },
  {
   "cell_type": "markdown",
   "id": "2dc7057c-6131-4e6f-8018-01ff30dfe566",
   "metadata": {},
   "source": [
    "<img src=\"Feb-27/KDE_Distribution.png\" width=\"50%\">\n"
   ]
  },
  {
   "cell_type": "markdown",
   "id": "669dc46c-fd44-4385-ac28-3f0a92fc20a5",
   "metadata": {},
   "source": [
    "Overall, there are a few observations from two plots above:\n",
    "\n",
    "1. There is a positive relationship among video transcripts toxicity and comment section toxicity when grouped BY GAME\n",
    "2. This means that some games are indeed more toxic than the other; Although we have yet to test this hypothesis statistically.\n",
    "3. This fact is observed, INDEPENDENT of YouTuber's individual effect on comment sections"
   ]
  },
  {
   "cell_type": "markdown",
   "id": "1945a6f8-6f39-4459-806c-76258f3341c1",
   "metadata": {},
   "source": [
    "2. GroupBy YouTuber"
   ]
  },
  {
   "cell_type": "markdown",
   "id": "02be6689-a4b0-42e6-bf41-31da0058d830",
   "metadata": {
    "tags": []
   },
   "source": [
    "<img src=\"Feb-27/ByChannel_Scatter.png\" width=\"60%\">"
   ]
  },
  {
   "cell_type": "markdown",
   "id": "52393d5c-7d59-4e8c-93ee-5f290e7ae72b",
   "metadata": {},
   "source": [
    "The graph above is a much denser looking scatter and regplot and the positive slope of the regression line is steeper compared to the scatter plot for game. This suggest the stronger explanatory power of group by channel, indicating that individual behaviors in transcripts might have a bigger impact on the comment section behaviors."
   ]
  },
  {
   "cell_type": "markdown",
   "id": "2b7e7597-87eb-43d2-ad77-89b3c5dd34cf",
   "metadata": {},
   "source": [
    "<img src=\"Feb-27/ByGame_Barplot.png\" width=\"60%\">"
   ]
  },
  {
   "cell_type": "markdown",
   "id": "0a1f01ae-e9cc-4826-8089-190738fa965f",
   "metadata": {
    "tags": []
   },
   "source": [
    "<img src=\"Feb-27/KDE_Youtuber.png\" width=\"70%\">"
   ]
  },
  {
   "cell_type": "markdown",
   "id": "48c5af36-bd35-4ea3-a560-db5edf6a2011",
   "metadata": {},
   "source": [
    "## Investigate the most common topics in toxic videos"
   ]
  },
  {
   "cell_type": "markdown",
   "id": "bc109344-4c3b-4abb-b8ad-860296236daa",
   "metadata": {
    "tags": []
   },
   "source": [
    "<img src=\"Feb-27/Topics_highest_toxic_videos.png\" width=\"70%\">"
   ]
  },
  {
   "cell_type": "markdown",
   "id": "b23f9db5-6b81-47ab-ad25-4b4a435b82b4",
   "metadata": {},
   "source": [
    "We sorted the list of videos by toxicity, identified the top 10 videos with the highest toxicity scores, and determined the most common 10 topics among them. The topic keywords are: negative_emotion, weapon, violence, friends, swearing, pain, war, death, kill, and hate."
   ]
  },
  {
   "cell_type": "markdown",
   "id": "e32af81c-b922-43c8-88b2-f533ea3e8b22",
   "metadata": {
    "tags": []
   },
   "source": [
    "<img src=\"Feb-27/Barplot_highest.png\" width=\"70%\">"
   ]
  },
  {
   "cell_type": "markdown",
   "id": "1302388f-bd9f-43a2-ab5c-a6245fb8e756",
   "metadata": {},
   "source": [
    "## Investigate the most common topics in non-toxic videos"
   ]
  },
  {
   "cell_type": "markdown",
   "id": "1cc722c4-2ee0-4210-8273-d3f057eab98f",
   "metadata": {
    "tags": []
   },
   "source": [
    "<img src=\"Feb-27/Topics_lowest_toxic_videos.png\" width=\"70%\">"
   ]
  },
  {
   "cell_type": "markdown",
   "id": "f1387a34-c7ae-4824-bfde-e8f2d1aa9922",
   "metadata": {},
   "source": [
    "We sorted the list of videos by toxicity, identified the top 10 videos with the lowest toxicity scores, and determined the most common 10 topics among them. The topic keywords are: musical, music, dance, fun, art, listen, sound, hearing, noise and positive_emotion."
   ]
  },
  {
   "cell_type": "markdown",
   "id": "f19c1896-3307-4c3b-8d1d-bf6d06ecf3fd",
   "metadata": {
    "tags": []
   },
   "source": [
    "<img src=\"Feb-27/Barplot_lowest.png\" width=\"70%\">"
   ]
  },
  {
   "cell_type": "code",
   "execution_count": null,
   "id": "76dfcdab-7cf6-4563-a5b1-682d8e45a202",
   "metadata": {},
   "outputs": [],
   "source": []
  },
  {
   "cell_type": "code",
   "execution_count": null,
   "id": "50e9f8ef-9cc6-4202-8a3a-f83d738cd8cc",
   "metadata": {},
   "outputs": [],
   "source": []
  },
  {
   "cell_type": "code",
   "execution_count": null,
   "id": "b288a05b-433b-4dea-9ada-8378e70abcd0",
   "metadata": {},
   "outputs": [],
   "source": []
  },
  {
   "cell_type": "code",
   "execution_count": null,
   "id": "9da59b46-3515-48d4-ad82-d8da89d9120a",
   "metadata": {},
   "outputs": [],
   "source": []
  },
  {
   "cell_type": "code",
   "execution_count": null,
   "id": "672a31a0-197b-4125-ab12-b6432df0338e",
   "metadata": {},
   "outputs": [],
   "source": []
  },
  {
   "cell_type": "code",
   "execution_count": null,
   "id": "4fdc8c47-5c41-4c4e-9a49-31299c2ef38c",
   "metadata": {},
   "outputs": [],
   "source": []
  },
  {
   "cell_type": "code",
   "execution_count": null,
   "id": "db0df513-730a-4d73-9548-d437fdbdf6d0",
   "metadata": {},
   "outputs": [],
   "source": []
  },
  {
   "cell_type": "code",
   "execution_count": null,
   "id": "6bae4c35-e50d-48d3-a811-50f6dd02642a",
   "metadata": {},
   "outputs": [],
   "source": []
  },
  {
   "cell_type": "markdown",
   "id": "57568ad2-1c64-449d-91df-c696a0859fa4",
   "metadata": {},
   "source": [
    "## Qualitative  \n",
    "\n",
    "### Answer, update question/claim, summary, re-contextualization, story, relate to domain knowledge  \n",
    "\n",
    "**Answer**:   \n",
    "\n",
    "From our further exploration, we can answer our update research questions:\n",
    "- Videos with higher toxicity in the transcript generally tend to trigger more toxic comments, but the relationship is not strong or causal. It is not an accurate predictor of comment toxicity. The distribution of comment toxicity appears somewhat random and may be influenced by various factors other than just the toxicity of the transcript.\n",
    "- Youtubers who use more toxic language are likely to trigger more toxic comments, but is not the only determinator.\n",
    "- Surprisingly, the common topics in the most toxic and least toxic videos exhibit clear differences and patterns. Toxic videos frequently cover negative topics such as 'violence,' 'war,' and 'kill,' while non-toxic videos predominantly feature positive topics like 'music,' 'dance,' 'art,' and 'fun.' Intuitively, it can be observed that the topics in toxic videos are more negative in nature compared to non-toxic videos.\n",
    "\n",
    "**Updated Question**:\n",
    "\n",
    "- What are other primary factors or predictors of online gaming toxicity?\n",
    "- How can our insights inform practical strategies for fostering a healthier online interaction environment?\n",
    "            \n",
    "**Relate to Domain Knowledge**:   \n",
    "\n",
    "- From our toxicity calculation using the Perspective API, we discovered that the toxicity in the video transcript is much higher than in the comments. This difference may be attributed to the common and non-harmful use of certain language within the gaming community while playing games. Such language does not necessarily imply malicious intent, prompting us to explore methods for detecting the genuine intentions behind oral language use beyond the literal words in gaming area."
   ]
  },
  {
   "cell_type": "code",
   "execution_count": null,
   "id": "adb77e6f-719e-440e-a649-b95b706b094d",
   "metadata": {},
   "outputs": [],
   "source": []
  },
  {
   "cell_type": "code",
   "execution_count": null,
   "id": "22c7e86e-5596-4917-9e30-325c4869f2f2",
   "metadata": {},
   "outputs": [],
   "source": []
  },
  {
   "cell_type": "code",
   "execution_count": null,
   "id": "72a642e3-d9b8-4231-88f4-7bd0b014aa06",
   "metadata": {},
   "outputs": [],
   "source": []
  },
  {
   "cell_type": "markdown",
   "id": "5dfcd881-1537-4e05-8b65-5ee3150aa00c",
   "metadata": {},
   "source": [
    "## Credit listing:\n",
    "\n",
    "### Chesie Yu    \n",
    "\n",
    "- Buildng code structure   \n",
    "- Writing code/documentations for data collection, data cleaning, text processing, toxicity and sentiment labeling, visualization and preliminary analysis     \n",
    "         \n",
    "### Hongfan Lu  \n",
    "- Writing code for data collection, processing, preliminary analysis and visualization    \n",
    "- Collecting gaming YouTuber channel information   \n",
    "- Generating observations and ideas for future exploration  \n",
    "         \n",
    "### Bella Wei  \n",
    "- Conducting Data collection, data analysis and visualization\n",
    "- Writing the ProjectPhase2-Summary-report  \n",
    "     \n",
    "### Collaboration    \n",
    "- Idea Generation  \n",
    "- Literature Review  \n",
    "- Reseach Question Formation  \n",
    "- Workflow Design  \n",
    "- Data collection  \n",
    "- Data collection result Interpretaion and Discussion  \n",
    "- Future direction exploration   "
   ]
  }
 ],
 "metadata": {
  "kernelspec": {
   "display_name": "Python 3 (ipykernel)",
   "language": "python",
   "name": "python3"
  },
  "language_info": {
   "codemirror_mode": {
    "name": "ipython",
    "version": 3
   },
   "file_extension": ".py",
   "mimetype": "text/x-python",
   "name": "python",
   "nbconvert_exporter": "python",
   "pygments_lexer": "ipython3",
   "version": "3.11.5"
  }
 },
 "nbformat": 4,
 "nbformat_minor": 5
}
