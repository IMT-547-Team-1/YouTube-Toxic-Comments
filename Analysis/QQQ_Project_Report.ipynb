{
 "cells": [
  {
   "cell_type": "markdown",
   "id": "9d23eb7e",
   "metadata": {
    "id": "9d23eb7e"
   },
   "source": [
    "# IMT 547 - Term Project Phase 1"
   ]
  },
  {
   "cell_type": "markdown",
   "id": "22554d6a",
   "metadata": {
    "id": "22554d6a"
   },
   "source": [
    "#### Title: YouTube Gaming Comments Toxicity\n",
    "    Team name: Group 1\n",
    "    Team members: Chesie Yu, Hongfan Lu, Bella Wei\n",
    "    Problem Description:\n",
    "        Toxicity in the gaming community is a prevalent problem that hinders the harmonious development of the gaming industry. Our objective is to tackle this concern by exploring whether the game category (Action and Non-Action) serves as a primary determinant of toxicity levels in YouTube video comments. This study focuses on the observational perspective rather than the player angle. If proven, it can offer valuable insights for gaming community management, game design, and the design of social media platforms."
   ]
  },
  {
   "cell_type": "markdown",
   "id": "72412014",
   "metadata": {
    "id": "72412014"
   },
   "source": [
    "#### RQ1:\n",
    "    - Do videos of action games arouse significant more toxic comments than non-action games in YouTube?\n",
    "    - Our project is interested in investigating sections for action and non-action based gaming videos on YouTube.\n",
    "    - We hypothesis that there will be different type of emotions represented in the comment section;\n",
    "    - Moreover, the occurance of profanity might be higher in the action based gaming videos."
   ]
  },
  {
   "cell_type": "markdown",
   "id": "5955f4df",
   "metadata": {
    "id": "5955f4df"
   },
   "source": [
    "#### RQ2:\n",
    "    - Which kinds of gaming video attract most toxic comments? Any pattern behind the scene?\n",
    "    - How does YouTubers' contents, characteristics and behaviors influence toxicity in comments section."
   ]
  },
  {
   "cell_type": "code",
   "execution_count": null,
   "id": "f8bb4fb3-48cb-4abd-9fcc-01442eb1385e",
   "metadata": {
    "id": "f8bb4fb3-48cb-4abd-9fcc-01442eb1385e"
   },
   "outputs": [],
   "source": [
    "# Preliminary Analysis"
   ]
  },
  {
   "cell_type": "markdown",
   "id": "7797fc6f-d047-4b96-bffb-5b44b4197251",
   "metadata": {
    "id": "7797fc6f-d047-4b96-bffb-5b44b4197251"
   },
   "source": [
    "#### Report format using QQQ\n",
    "    Qualitative:\n",
    "        Question, problem, hypothesis, claim, context, motivation\n",
    "        Definitions, data, methods to be used\n",
    "        Rationale, assumptions, biases\n",
    "    Quantitative:\n",
    "        Data processing, analysis, visualization\n",
    "        Documented code and results\n",
    "        Summary visuals\n",
    "    Qualitative:\n",
    "        Answer, update question/claim, summary, re-contextualization, story, relate to domain knowledge\n",
    "        Uncertainty, limitations, caveats\n",
    "        New problems, next steps\n",
    "    Repeat. QQQ-QQQ-QQQ-...\n",
    "        Break down a large problem into parts\n",
    "        Alternative approaches to a problem\n",
    "        Sequence of related problems, \"vignettes\"\n",
    "        Follow-up problems"
   ]
  },
  {
   "cell_type": "markdown",
   "id": "Y87X6szOT0sy",
   "metadata": {
    "id": "Y87X6szOT0sy"
   },
   "source": [
    "## Qualitative:\n",
    "\n",
    "    ·Question, Problem, Hypothesis, Claim, Context, Motivation:\n",
    "        - Question:\n",
    "            Do videos of action games arouse significant more toxic comments than non-action games in YouTube?\n",
    "            Is gaming category a primary predictor for toxic comments in YouTube?\n",
    "        - Hypothesis:\n",
    "            We assume action game(including violence scene) will trigger significant more toxicity in YouTube, and different categories of games present different level of toxicity.\n",
    "        - Context:\n",
    "            Online gaming toxicity refers to harmful and negative conversations within the gaming community, presenting a serious issue across social media platforms. This behavior often involves the use of offensive language, insults, harassment, or even threats exchanged among players. It negatively impacts the harmony of the gaming community and social media platforms, fostering resentment and animosity among people and adversely affecting people’s mental health, especially teenagers.\n",
    "        - Motivation:\n",
    "            Addressing and mitigating online gaming toxicity is crucial for fostering a positive and inclusive gaming culture. If we can identify the main factors and predictors of online gaming toxicity, we can efficiently prevent and regulate this problem, providing valuable insights to gaming industry, gaming design, gaming community management, social media platform, and gamers. It would contribute to creating a healthier and more enjoyable online gaming environment while also aiding in the prevention of cyberbullying and game-related mental health problems.\n",
    "        \n",
    "    ·Definitions, Data, Methods to be Used:\n",
    "        - Definitions:\n",
    "            Online gaming toxicity refers to the use of harmful and negative language within the gaming community. Our focus was on the YouTube platform, specifically examining comments under gaming videos of each category. Our research novelty lies in that we address this issue from the perspective of gaming observation rather than real-time gameplay.\n",
    "        - Data:\n",
    "            We scraped videos under 33 English-Speaking YouTube channels from a list of top 100. For each channel, we select 30 video for action games and 30 for non-action games. We get 63442 comment records for antion game and 75760 comment records for non-action game(139202 comment records in total).\n",
    "        - Methods:\n",
    "            In data collection phase we use YouTube API key to get access to chosen YouTube channels. We perform text cleaning on the collected data by removing missing values and unnecessary tokens through tokenization and regular expressions. Subsequently, we use the Perspective API to assess toxicity levels, and leverage NLP sentiment analysis tools such as Vader, TextBlob, and Empath to evaluate the emotional tone of the comments. Finally, we apply data visualization techniques to enhance the presentation of our analysis results.\n",
    "        \n",
    "    ·Assumptions, Biases:\n",
    "        - Assumptions:\n",
    "            YouTube comments are free-speech and not-filtered seriously.\n",
    "        - Biases:\n",
    "            We use predifined keywords list to fetch videos, which may not be representative enough\n",
    "            We retrieve 100 comments under each video, provided by the default order on YouTube, which may introduce bias."
   ]
  },
  {
   "cell_type": "markdown",
   "id": "209ee638-bcf0-4384-9b73-11841b3b18a0",
   "metadata": {
    "id": "QtkHHvLRTtcO"
   },
   "source": [
    "## Quantitative: "
   ]
  },
  {
   "cell_type": "markdown",
   "id": "c50e6ada",
   "metadata": {
    "id": "c50e6ada"
   },
   "source": [
    "### Data collection steps:\n",
    "\n",
    "    1. Utilizing YouTube API to access Youtube comments\n",
    "    \n",
    "    2. Keywords for ActionGames:\n",
    "       - action_keywords = [\n",
    "            \"call of duty\", \"gta\", \"the last of us\", \"god of war\", \"batman\",\n",
    "            \"red dead redemption\", \"assassin's creed\", \"star wars jedi\",\n",
    "            \"resident evil\", \"cyberpunk\", \"fallout\", \"tomb raider\", \"elden ring\"]\n",
    "        - Keywords for NonActionGames:\n",
    "            nonaction_keywords = [\n",
    "            \"minecraft\", \"pokemon go\", \"just dance\", \"it takes two\", \"uncharted\",\n",
    "            \"brawl stars\"]\n",
    "            \n",
    "    3. Found 33 English-Speaking youtubers from a list of top 100 (ranked by number of subscriber)\n",
    "    \n",
    "    4. For each Youtuber, select 30 video for action games and 30 for non-action games\n",
    "    \n",
    "    5. Use Relevance (YouTube internal algo) to extract 100 comments each video"
   ]
  },
  {
   "cell_type": "markdown",
   "id": "9d140402-49a5-4d31-88aa-dbf51ca78be4",
   "metadata": {
    "id": "9d140402-49a5-4d31-88aa-dbf51ca78be4"
   },
   "source": [
    "### Description for notebook 01-data-collection\n",
    "\n",
    "Description of code 1- Data Collection:\n",
    "    \n",
    "    Our data collection phrase is divided into 3 modules:\n",
    "        1. Authentication & Configuration: Prepared the necessary tools and configuration for our later data collection\n",
    "            - Set up the YouTube API key\n",
    "            - Install and import necessary libraries\n",
    "            - Configure the log recording system\n",
    "            - Initialize a client that can communicates with YouTube API\n",
    "            \n",
    "        2. Utility Function: Encapsulated a series of necessary operations into functions.\n",
    "            - get_uploads_id(channel_id): Fetch the uploads playlist ID for a given YouTube channel.\n",
    "            - get_video_ids(uploads_id, max_videos=30, keywords=“”): Fetch 30 video IDs containing keyword in a given upload playlist\n",
    "            - get_video_info(video_ids): Fetch necessary video info from a list of YouTube videos.\n",
    "                The info contains information of ([“channel_id”, “channel_name”, “video_id”, “video_title”, “video_creation_time”, “video_description”, “video_tags”, “video_viewcount”, “video_likecount”, \"video_commentcount\"])\n",
    "            - get_video_comments(video_ids, max_comments=100): Fetch comments (100 max each) for a list of videos.\n",
    "                The comments’ info contains ([“video_id”, “comment_id”, “comment_author_id”, “comment_text”, “comment_time”, “comment_likecount”, \"comment_replycount\"])\n",
    "            - get_youtube_data(channel_ids, max_videos=30, max_comments=100, keywords=“”): Main function. Fetch videos and comments for a list of channels\n",
    "            \n",
    "        3. Data Collection\n",
    "            - Set up the parameters(max 100 comments under max 30 videos for each YouTube channel) and keywords list for ‘Action’ and ‘Non-Action’ game category\n",
    "            - Read a self-built document ‘top 100 popular gaming YouTubers’ as our targeted channels, filtering only english-speaking channels\n",
    "            - Collect and combine comment infos for action and non-action games\n",
    "            - Get and save 139202 comments records"
   ]
  },
  {
   "cell_type": "markdown",
   "id": "ced295a7-9d64-4bf8-a868-098665a81d61",
   "metadata": {
    "id": "ced295a7-9d64-4bf8-a868-098665a81d61"
   },
   "source": [
    "### Descripton for notebook 02-preprocessing\n",
    "\n",
    "Our data preprocessing is divided into ? modules:\n",
    "    \n",
    "1. Data Cleaning\n",
    "    - Check missings: **991 rows with missing values; 138211 rows left after removing NA**\n",
    "    - Check data types: transfer time-related columns into datetime data type:\n",
    "        Comments are from a range of time in **('2011-04-22T01:05:52Z', '2024-02-18T20:15:11Z')**\n",
    "    - A total of 1435 unique videos are included"
   ]
  },
  {
   "cell_type": "markdown",
   "id": "fa10fc86-257d-480d-abaa-d184f7ae1d52",
   "metadata": {
    "id": "9dYUZwCOUB59"
   },
   "source": [
    "![YouTube Data Symmary Statistics](Summary_Statistics.png)"
   ]
  },
  {
   "cell_type": "markdown",
   "id": "328e7366-988a-4da6-b0d6-cb23b1aa589d",
   "metadata": {},
   "source": [
    "2. Text Preprocessing\n",
    "    - Filter English comments only \n",
    "    - Do text cleaning by removing unimportant content such as URLs, mentions and stop words.\n",
    "    - Tokenization and save results into the dataframe"
   ]
  },
  {
   "cell_type": "markdown",
   "id": "e90228f5-9a9b-47a7-9ba8-f7dc97131e26",
   "metadata": {},
   "source": [
    "![Text Cleaning](Text_Cleaning.png)"
   ]
  },
  {
   "cell_type": "markdown",
   "id": "f5065c07-1bcc-4ce0-a777-37287689c3bb",
   "metadata": {},
   "source": [
    "3. Data Labeling\n",
    "    - Toxicity scores by perspective API\n",
    "    - Sentiment scores by vader, textblob and empath"
   ]
  },
  {
   "cell_type": "markdown",
   "id": "97e68176-93b4-4da9-b34b-57e1eade9c4c",
   "metadata": {},
   "source": [
    "#### Perspective API"
   ]
  },
  {
   "cell_type": "markdown",
   "id": "8a59bf86-b95f-4d40-9deb-55110d7a313e",
   "metadata": {},
   "source": [
    "![Perspective API Keys](Perspective_keys.png)"
   ]
  },
  {
   "cell_type": "markdown",
   "id": "57adf8cc-66e4-4f36-818d-c2964d714c11",
   "metadata": {},
   "source": [
    "![Perspective head](Perspective_API_head.png)"
   ]
  },
  {
   "cell_type": "markdown",
   "id": "ec8c2441-76f6-40b3-91cb-3d05ffe99b8e",
   "metadata": {},
   "source": [
    "![Toxicity Distribution](01a-toxicity-distribution.png)"
   ]
  },
  {
   "cell_type": "markdown",
   "id": "d153851c-b00e-494b-9d3f-de06485f6487",
   "metadata": {},
   "source": [
    "#### The graph above is showing the percentage of comments that are tagged with the six dimensions of Perspective API; \n",
    "- is_toxicity (> 0.3) identified around 20% of all data and it is the largest bucket identified. \n",
    "- is_identity_attack (> 0.3) identify the least number of comments among the six identifiers."
   ]
  },
  {
   "cell_type": "markdown",
   "id": "a7549daf-dfc5-4061-9760-f35ec53b0fd9",
   "metadata": {},
   "source": [
    "![Vader by genre](02a-sentiment-vader-by-genre.jpg)"
   ]
  },
  {
   "cell_type": "markdown",
   "id": "6abbbb86-e873-4d8d-bc81-6ee67bdd808a",
   "metadata": {},
   "source": [
    "![TextBlob by genre](02b-sentiment-textbblob-by-genre.jpg)"
   ]
  },
  {
   "cell_type": "markdown",
   "id": "3f91ce3e-924e-4b24-8297-092478128a99",
   "metadata": {},
   "source": [
    "![Empath by genre](02c-sentiment-empath-by-genre.jpg)"
   ]
  },
  {
   "cell_type": "markdown",
   "id": "ed182652-da03-4cf5-bfca-5c05eec5169a",
   "metadata": {},
   "source": [
    "#### The above three graphs measure the sentiment scores measure by Vader, TextBlob and Empath respectively. \n",
    "- We can observe that the overall distribution of action and non-action videos' sentiment scores are extremely close, amost overlapped; \n",
    "- however, the vertical dotted lines, which are the mean of either action or non-action sentiments scores, are also quite close to each other. \n",
    "- From Vader, we can say that action videos are showing more sentiments, positive and negative alike, and less neutrality."
   ]
  },
  {
   "cell_type": "code",
   "execution_count": null,
   "id": "7822c2db-eb20-4f9e-a2d7-7dd2d951262a",
   "metadata": {},
   "outputs": [],
   "source": []
  },
  {
   "cell_type": "code",
   "execution_count": null,
   "id": "02b7e223-f5da-4244-b914-85d30f3f8716",
   "metadata": {},
   "outputs": [],
   "source": []
  },
  {
   "cell_type": "code",
   "execution_count": null,
   "id": "197b39df-9a9f-496f-aa55-87cd6f1bd305",
   "metadata": {},
   "outputs": [],
   "source": []
  },
  {
   "cell_type": "markdown",
   "id": "3b763c51-83c5-4076-90c0-bf4e56e7b324",
   "metadata": {},
   "source": [
    "![Toxicity By Games](Toxic_By_Name.png)"
   ]
  },
  {
   "cell_type": "markdown",
   "id": "23e10bc4-b608-41c6-a0fd-25e02dccdae3",
   "metadata": {},
   "source": [
    "#### In the chart above, \n",
    "    - there is a pattern that action games tend to squeezed on the left hand side, which indicates higher Toxicity score.\n",
    "    - while non- action games like minecraft, tend to squeeze on the lower Toxicity scores side\n",
    "    - P.S You may see many game names are a combination of several games like 'call of duty, minecraft', this is becuase that minecraft allow player to use the gaming skins from other games.\n",
    "    - In other cases where multiple games are capture together, the reason might be that it is a video about both games but these situations are rare overall."
   ]
  },
  {
   "cell_type": "markdown",
   "id": "7bf76d52-5b5e-4d98-968d-06e02434f438",
   "metadata": {},
   "source": [
    "![Toxicity by YouTubers](Toxic_By_Channel.png)"
   ]
  },
  {
   "cell_type": "markdown",
   "id": "d2cc16eb-78d7-4f89-bdaf-2c91c5bea28c",
   "metadata": {},
   "source": [
    "#### In the bar graph above, we obser an obvious difference in the mean toxicity scores of different YouTuber.\n",
    "\n",
    "    To Investigate if the rootcause is that the higher proportion of action videos might lead to higher toxicity score we plotted the charts below"
   ]
  },
  {
   "cell_type": "markdown",
   "id": "7f08a48a-2e45-4f99-ac7e-8a0d18c4e305",
   "metadata": {},
   "source": [
    "![Action/Non-Action Proportion](ActionNonActionProportion.png)"
   ]
  },
  {
   "cell_type": "markdown",
   "id": "ad663a85-4cce-4957-876e-cb6f98694d91",
   "metadata": {},
   "source": [
    "#### For some players that play mostly non-action games, it seems like they tend to have lower toxicity scores\n",
    "\n",
    "    Below is a more detailed breakdown"
   ]
  },
  {
   "cell_type": "markdown",
   "id": "72c9d0b1-7452-412b-9521-39b4e1f99a72",
   "metadata": {},
   "source": [
    "![action_vid_percent_toxicity](action_vid_percent_toxicity.png)"
   ]
  },
  {
   "cell_type": "markdown",
   "id": "307e7ddc-ab69-4cc1-8e91-a53765e834b8",
   "metadata": {},
   "source": [
    "![Action/Non-Action videos posted by each YouTuber](Percent_of_Action_Video_Channel.png)"
   ]
  },
  {
   "cell_type": "markdown",
   "id": "b1b57ef3-7e3c-4c2b-850a-4016f41b5586",
   "metadata": {},
   "source": [
    "#### We plotted a scatter plot with trend line above. We can observe a positive relationship between Percent of Action Video in Youtuber's channel and the mean toxicity scores\n",
    "    - however, there are a few exception like 'Tommyinit', this youtuber mainly post non-action games videos. \n",
    "    - But his toxicity score is pretty high. We assume the underlying reasons might be his content, his characteristics, or his language habit; \n",
    "    - We plan to further investigate in the future by aalyzing the transcripts so that we can make relationships between video contents and comments section atmosphere."
   ]
  },
  {
   "cell_type": "markdown",
   "id": "ErgRrmn0Yh-M",
   "metadata": {
    "id": "ErgRrmn0Yh-M"
   },
   "source": [
    "## Qualitative:\n",
    "\n",
    "    ·Answer, update question/claim, summary, re-contextualization, story, relate to domain knowledge\n",
    "        - Answer: Our preliminary analysis indicates that the game category is not a significant factor in online gaming toxicity. The toxicity, emotional tone, and word cloud analysis for both action and non-action games show no substantial differences.\n",
    "        - Updated Question:\n",
    "            What are the primary factors or predictors of online gaming toxicity?\n",
    "            \n",
    "        - Relate to Domain Knowledge: This finding challenges the common assumption that game category alone influences toxicity levels. It prompts a deeper exploration into the intricate factors contributing to online gaming toxicity. One possible reason is the gaming observer is a different group of game players. Another reason is the game culture in YouTube gaming community is positive and kind, differ from other gaming communities.\n",
    "\n",
    "\n",
    "    ·Uncertainty, limitations, caveats\n",
    "        - Uncertainty and limitations:\n",
    "            - We are not sure the fairness of our data although we fetch large amount of comments for analysis.\n",
    "            - Our dataset is derived exclusively from top YouTube gaming channels, potentially introducing bias and limiting the generalizability of our findings to broader gaming communities.\n",
    "            - The predefined keyword list used for video selection might not encompass the entire spectrum of gaming content, omitting potential influential videos.\n",
    "        - Caveats:\n",
    "            - Our study focuses on English-language comments, limiting applicability to non-English gaming communities.\n",
    "            - The Perspective API's predefined toxicity thresholds may not fully align with subjective perceptions of offensive content in gaming community.\n",
    "\n",
    "    ·New problems, next steps\n",
    "        - New problems:\n",
    "            We observed a significant imbalance in the like-counts among comments under the same video. Certain comments received exceptionally high like-counts, what are the factors driving this phenomenon?\n",
    "            Considering that YouTube employs its own comment filtering mechanism, the prevalence of 'toxic' comments may be limited. Can we observe obvious pattern if we analyse other emotion dimension such as disappointment, discouragement or unsatisfication?\n",
    "            \n",
    "        - Next steps:\n",
    "\n",
    "\n"
   ]
  },
  {
   "cell_type": "code",
   "execution_count": null,
   "id": "cd525d40-0650-4cdf-8ddf-432901445ae3",
   "metadata": {},
   "outputs": [],
   "source": []
  }
 ],
 "metadata": {
  "colab": {
   "provenance": []
  },
  "kernelspec": {
   "display_name": "Python 3 (ipykernel)",
   "language": "python",
   "name": "python3"
  },
  "language_info": {
   "codemirror_mode": {
    "name": "ipython",
    "version": 3
   },
   "file_extension": ".py",
   "mimetype": "text/x-python",
   "name": "python",
   "nbconvert_exporter": "python",
   "pygments_lexer": "ipython3",
   "version": "3.10.9"
  }
 },
 "nbformat": 4,
 "nbformat_minor": 5
}
