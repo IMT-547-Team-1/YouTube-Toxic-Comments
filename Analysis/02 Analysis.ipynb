{
 "cells": [
  {
   "cell_type": "markdown",
   "id": "220edf77-e6ff-4f9f-86d4-767a7a2dd12d",
   "metadata": {},
   "source": [
    "# Hongfan Lu - Feb 26th - EDA (Video Transcripts vs Comments)"
   ]
  },
  {
   "cell_type": "code",
   "execution_count": 1,
   "id": "d64774bb-5aef-4ac9-9345-3c71756e2820",
   "metadata": {},
   "outputs": [],
   "source": [
    "import pandas as pd\n",
    "import matplotlib.pyplot as plt\n",
    "import seaborn as sns"
   ]
  },
  {
   "cell_type": "code",
   "execution_count": 2,
   "id": "1942de7b-af28-4236-b651-1f94162e3625",
   "metadata": {},
   "outputs": [
    {
     "data": {
      "text/plain": [
       "(128461, 440)"
      ]
     },
     "execution_count": 2,
     "metadata": {},
     "output_type": "execute_result"
    }
   ],
   "source": [
    "df = pd.read_csv('../data/yt-cleaned.csv')\n",
    "df.shape"
   ]
  },
  {
   "cell_type": "code",
   "execution_count": 3,
   "id": "2a390317-6a6e-47f8-964c-87d539e08f3e",
   "metadata": {},
   "outputs": [],
   "source": [
    "# Subdividing columns into different dataframe\n",
    "a = list(df.columns)\n",
    "channel_video_info = a[:8] + ['video_id','video_genre'] # channel info\n",
    "\n",
    "video_info_vader_txtblb = ['channel_name', 'video_genre'] + a[8:30] # video info, vader and textblob scores\n",
    "video_empath = ['channel_name', 'video_genre', 'video_id', 'video_title'] + a[30:224] # video transcript's empath keywords\n",
    "video_perspective = ['channel_name', 'video_genre', 'video_id', 'video_title'] + ['video_toxicity', 'video_severe_toxicity', 'video_identity_attack', 'video_insult', 'video_profanity', 'video_threat'] # video transcript toxicity labelling\n",
    "\n",
    "comment_info_vader_txtblb = ['channel_name', 'video_genre', 'video_id', 'video_title'] + a[225:243] # comment info, comment vader and textblob scores\n",
    "comment_empath = ['channel_name', 'video_genre', 'video_id', 'video_title', 'comment_cleaned','comment_tokenized'] + a[243:-3] # comment transcript's empath keywords\n",
    "comment_perspective = ['channel_name', 'video_genre', 'video_id', 'video_title','comment_author_id', 'comment_cleaned','comment_tokenized'] + ['comment_toxicity','comment_severe_toxicity', 'comment_identity_attack', 'comment_insult','comment_profanity', 'comment_threat'] #comment toxicity labeling\n",
    "\n",
    "video_genre = a[-1] # video genre (action/ non-action)"
   ]
  },
  {
   "cell_type": "markdown",
   "id": "101481ba-c17e-491d-8e7d-fda5d29854ce",
   "metadata": {
    "tags": []
   },
   "source": [
    "## 1. Dataframes for Channel level information"
   ]
  },
  {
   "cell_type": "code",
   "execution_count": 4,
   "id": "d1e0be6c-3a1b-40c4-83dd-c32af7325925",
   "metadata": {
    "tags": []
   },
   "outputs": [
    {
     "data": {
      "text/html": [
       "<div>\n",
       "<style scoped>\n",
       "    .dataframe tbody tr th:only-of-type {\n",
       "        vertical-align: middle;\n",
       "    }\n",
       "\n",
       "    .dataframe tbody tr th {\n",
       "        vertical-align: top;\n",
       "    }\n",
       "\n",
       "    .dataframe thead th {\n",
       "        text-align: right;\n",
       "    }\n",
       "</style>\n",
       "<table border=\"1\" class=\"dataframe\">\n",
       "  <thead>\n",
       "    <tr style=\"text-align: right;\">\n",
       "      <th></th>\n",
       "      <th>channel_id</th>\n",
       "      <th>channel_name</th>\n",
       "      <th>channel_country</th>\n",
       "      <th>channel_viewcount</th>\n",
       "      <th>channel_subscribercount</th>\n",
       "      <th>channel_videocount</th>\n",
       "      <th>video_id</th>\n",
       "      <th>video_genre</th>\n",
       "    </tr>\n",
       "  </thead>\n",
       "  <tbody>\n",
       "    <tr>\n",
       "      <th>0</th>\n",
       "      <td>UC-lHJZR3Gqxm24_Vd_AJ5Yw</td>\n",
       "      <td>PewDiePie</td>\n",
       "      <td>JP</td>\n",
       "      <td>29238461440</td>\n",
       "      <td>111000000</td>\n",
       "      <td>4753</td>\n",
       "      <td>F-yEoHL7MYY</td>\n",
       "      <td>action</td>\n",
       "    </tr>\n",
       "    <tr>\n",
       "      <th>1</th>\n",
       "      <td>UC-lHJZR3Gqxm24_Vd_AJ5Yw</td>\n",
       "      <td>PewDiePie</td>\n",
       "      <td>JP</td>\n",
       "      <td>29238461440</td>\n",
       "      <td>111000000</td>\n",
       "      <td>4753</td>\n",
       "      <td>PV4NGwn_xdI</td>\n",
       "      <td>action</td>\n",
       "    </tr>\n",
       "  </tbody>\n",
       "</table>\n",
       "</div>"
      ],
      "text/plain": [
       "                 channel_id channel_name channel_country  channel_viewcount  \\\n",
       "0  UC-lHJZR3Gqxm24_Vd_AJ5Yw    PewDiePie              JP        29238461440   \n",
       "1  UC-lHJZR3Gqxm24_Vd_AJ5Yw    PewDiePie              JP        29238461440   \n",
       "\n",
       "   channel_subscribercount  channel_videocount     video_id video_genre  \n",
       "0                111000000                4753  F-yEoHL7MYY      action  \n",
       "1                111000000                4753  PV4NGwn_xdI      action  "
      ]
     },
     "execution_count": 4,
     "metadata": {},
     "output_type": "execute_result"
    }
   ],
   "source": [
    "channel_video_info_df = df[channel_video_info]\n",
    "channel_video_info_df = channel_video_info_df.drop_duplicates().reset_index(drop = True)\n",
    "channel_video_info_df = channel_video_info_df.drop(['channel_description','channel_uploads_id'], axis = 1)\n",
    "channel_video_info_df.head(2)"
   ]
  },
  {
   "cell_type": "markdown",
   "id": "56404d35-9a15-428e-9a53-24e7b1a057f7",
   "metadata": {},
   "source": [
    "## 2. Dataframes for Video Transcripts"
   ]
  },
  {
   "cell_type": "markdown",
   "id": "752efab4-513c-449a-b0c4-f3018136924d",
   "metadata": {},
   "source": [
    "### video_info_vader_txtblob_df: video information + vader + textblob"
   ]
  },
  {
   "cell_type": "code",
   "execution_count": 5,
   "id": "3eed8bf0-37d8-4cd5-81f5-64d4651ccde0",
   "metadata": {
    "tags": []
   },
   "outputs": [
    {
     "data": {
      "text/plain": [
       "(1341, 15)"
      ]
     },
     "execution_count": 5,
     "metadata": {},
     "output_type": "execute_result"
    }
   ],
   "source": [
    "video_info_vader_txtblb_df = df[video_info_vader_txtblb]\n",
    "# video_info_vader_txtblb_df.shape ## This contains a lot of duplicated rows\n",
    "video_info_vader_txtblb_df = video_info_vader_txtblb_df.drop(['video_description', 'video_tags','video_subtitle_path'], axis = 1)\n",
    "video_info_vader_txtblb_df = video_info_vader_txtblb_df.drop(['video_toxicity', 'video_severe_toxicity', 'video_identity_attack', 'video_insult', 'video_profanity', 'video_threat'], axis = 1) ## take out perspective api related features\n",
    "video_info_vader_txtblb_df = video_info_vader_txtblb_df.drop_duplicates().reset_index(drop = True)\n",
    "video_info_vader_txtblb_df.shape"
   ]
  },
  {
   "cell_type": "code",
   "execution_count": 6,
   "id": "1e8c54ee-ee7b-4e99-ba2d-7fc3f7c49090",
   "metadata": {
    "tags": []
   },
   "outputs": [
    {
     "data": {
      "text/html": [
       "<div>\n",
       "<style scoped>\n",
       "    .dataframe tbody tr th:only-of-type {\n",
       "        vertical-align: middle;\n",
       "    }\n",
       "\n",
       "    .dataframe tbody tr th {\n",
       "        vertical-align: top;\n",
       "    }\n",
       "\n",
       "    .dataframe thead th {\n",
       "        text-align: right;\n",
       "    }\n",
       "</style>\n",
       "<table border=\"1\" class=\"dataframe\">\n",
       "  <thead>\n",
       "    <tr style=\"text-align: right;\">\n",
       "      <th></th>\n",
       "      <th>channel_name</th>\n",
       "      <th>video_genre</th>\n",
       "      <th>video_id</th>\n",
       "      <th>video_title</th>\n",
       "      <th>video_creation_time</th>\n",
       "      <th>video_viewcount</th>\n",
       "      <th>video_likecount</th>\n",
       "      <th>video_commentcount</th>\n",
       "      <th>video_language</th>\n",
       "      <th>video_neg</th>\n",
       "      <th>video_neu</th>\n",
       "      <th>video_pos</th>\n",
       "      <th>video_compound</th>\n",
       "      <th>video_polarity</th>\n",
       "      <th>video_subjectivity</th>\n",
       "    </tr>\n",
       "  </thead>\n",
       "  <tbody>\n",
       "    <tr>\n",
       "      <th>0</th>\n",
       "      <td>PewDiePie</td>\n",
       "      <td>action</td>\n",
       "      <td>F-yEoHL7MYY</td>\n",
       "      <td>I t̶r̶i̶e̶d̶ ̶t̶o̶ beat Elden Ring Without Dyi...</td>\n",
       "      <td>2022-04-30 16:40:18+00:00</td>\n",
       "      <td>11582061</td>\n",
       "      <td>473895</td>\n",
       "      <td>15142.0</td>\n",
       "      <td>['en']</td>\n",
       "      <td>0.134</td>\n",
       "      <td>0.723</td>\n",
       "      <td>0.143</td>\n",
       "      <td>0.9951</td>\n",
       "      <td>0.495382</td>\n",
       "      <td>0.495382</td>\n",
       "    </tr>\n",
       "    <tr>\n",
       "      <th>1</th>\n",
       "      <td>PewDiePie</td>\n",
       "      <td>action</td>\n",
       "      <td>PV4NGwn_xdI</td>\n",
       "      <td>Elden Ring #1 - 0 DEATH PLAYTHROUGH</td>\n",
       "      <td>2022-02-24 15:00:10+00:00</td>\n",
       "      <td>5178533</td>\n",
       "      <td>192094</td>\n",
       "      <td>4313.0</td>\n",
       "      <td>['en']</td>\n",
       "      <td>0.143</td>\n",
       "      <td>0.668</td>\n",
       "      <td>0.190</td>\n",
       "      <td>0.9976</td>\n",
       "      <td>0.576037</td>\n",
       "      <td>0.576037</td>\n",
       "    </tr>\n",
       "  </tbody>\n",
       "</table>\n",
       "</div>"
      ],
      "text/plain": [
       "  channel_name video_genre     video_id  \\\n",
       "0    PewDiePie      action  F-yEoHL7MYY   \n",
       "1    PewDiePie      action  PV4NGwn_xdI   \n",
       "\n",
       "                                         video_title  \\\n",
       "0  I t̶r̶i̶e̶d̶ ̶t̶o̶ beat Elden Ring Without Dyi...   \n",
       "1                Elden Ring #1 - 0 DEATH PLAYTHROUGH   \n",
       "\n",
       "         video_creation_time  video_viewcount  video_likecount  \\\n",
       "0  2022-04-30 16:40:18+00:00         11582061           473895   \n",
       "1  2022-02-24 15:00:10+00:00          5178533           192094   \n",
       "\n",
       "   video_commentcount video_language  video_neg  video_neu  video_pos  \\\n",
       "0             15142.0         ['en']      0.134      0.723      0.143   \n",
       "1              4313.0         ['en']      0.143      0.668      0.190   \n",
       "\n",
       "   video_compound  video_polarity  video_subjectivity  \n",
       "0          0.9951        0.495382            0.495382  \n",
       "1          0.9976        0.576037            0.576037  "
      ]
     },
     "execution_count": 6,
     "metadata": {},
     "output_type": "execute_result"
    }
   ],
   "source": [
    "video_info_vader_txtblb_df.head(2)"
   ]
  },
  {
   "cell_type": "markdown",
   "id": "ea4c31bc-3eed-4795-b07e-1ceed020da52",
   "metadata": {},
   "source": [
    "### video_perspective_df : video infor + perspective api dimensions"
   ]
  },
  {
   "cell_type": "code",
   "execution_count": 7,
   "id": "10d35d4b-1b8e-415f-b27c-e67d88b1cc08",
   "metadata": {
    "tags": []
   },
   "outputs": [
    {
     "data": {
      "text/html": [
       "<div>\n",
       "<style scoped>\n",
       "    .dataframe tbody tr th:only-of-type {\n",
       "        vertical-align: middle;\n",
       "    }\n",
       "\n",
       "    .dataframe tbody tr th {\n",
       "        vertical-align: top;\n",
       "    }\n",
       "\n",
       "    .dataframe thead th {\n",
       "        text-align: right;\n",
       "    }\n",
       "</style>\n",
       "<table border=\"1\" class=\"dataframe\">\n",
       "  <thead>\n",
       "    <tr style=\"text-align: right;\">\n",
       "      <th></th>\n",
       "      <th>channel_name</th>\n",
       "      <th>video_genre</th>\n",
       "      <th>video_id</th>\n",
       "      <th>video_title</th>\n",
       "      <th>video_toxicity</th>\n",
       "      <th>video_severe_toxicity</th>\n",
       "      <th>video_identity_attack</th>\n",
       "      <th>video_insult</th>\n",
       "      <th>video_profanity</th>\n",
       "      <th>video_threat</th>\n",
       "    </tr>\n",
       "  </thead>\n",
       "  <tbody>\n",
       "    <tr>\n",
       "      <th>0</th>\n",
       "      <td>PewDiePie</td>\n",
       "      <td>action</td>\n",
       "      <td>F-yEoHL7MYY</td>\n",
       "      <td>I t̶r̶i̶e̶d̶ ̶t̶o̶ beat Elden Ring Without Dyi...</td>\n",
       "      <td>0.358079</td>\n",
       "      <td>0.071938</td>\n",
       "      <td>0.056368</td>\n",
       "      <td>0.148396</td>\n",
       "      <td>0.244498</td>\n",
       "      <td>0.224883</td>\n",
       "    </tr>\n",
       "    <tr>\n",
       "      <th>1</th>\n",
       "      <td>PewDiePie</td>\n",
       "      <td>action</td>\n",
       "      <td>F-yEoHL7MYY</td>\n",
       "      <td>I t̶r̶i̶e̶d̶ ̶t̶o̶ beat Elden Ring Without Dyi...</td>\n",
       "      <td>0.358079</td>\n",
       "      <td>0.071938</td>\n",
       "      <td>0.056368</td>\n",
       "      <td>0.148396</td>\n",
       "      <td>0.244498</td>\n",
       "      <td>0.224883</td>\n",
       "    </tr>\n",
       "  </tbody>\n",
       "</table>\n",
       "</div>"
      ],
      "text/plain": [
       "  channel_name video_genre     video_id  \\\n",
       "0    PewDiePie      action  F-yEoHL7MYY   \n",
       "1    PewDiePie      action  F-yEoHL7MYY   \n",
       "\n",
       "                                         video_title  video_toxicity  \\\n",
       "0  I t̶r̶i̶e̶d̶ ̶t̶o̶ beat Elden Ring Without Dyi...        0.358079   \n",
       "1  I t̶r̶i̶e̶d̶ ̶t̶o̶ beat Elden Ring Without Dyi...        0.358079   \n",
       "\n",
       "   video_severe_toxicity  video_identity_attack  video_insult  \\\n",
       "0               0.071938               0.056368      0.148396   \n",
       "1               0.071938               0.056368      0.148396   \n",
       "\n",
       "   video_profanity  video_threat  \n",
       "0         0.244498      0.224883  \n",
       "1         0.244498      0.224883  "
      ]
     },
     "execution_count": 7,
     "metadata": {},
     "output_type": "execute_result"
    }
   ],
   "source": [
    "video_perspective_df = df[video_perspective]\n",
    "video_perspective_df.head(2)"
   ]
  },
  {
   "cell_type": "markdown",
   "id": "feb80af4-fa44-48dc-af36-8972bbb7acfc",
   "metadata": {},
   "source": [
    "### video_empath_df: video info + empath keywords"
   ]
  },
  {
   "cell_type": "code",
   "execution_count": 8,
   "id": "d73628f8-6fd0-4453-a060-f8703ef054cb",
   "metadata": {
    "tags": []
   },
   "outputs": [
    {
     "data": {
      "text/plain": [
       "(1341, 198)"
      ]
     },
     "execution_count": 8,
     "metadata": {},
     "output_type": "execute_result"
    }
   ],
   "source": [
    "video_empath_df = df[video_empath]\n",
    "# video_empath_df.shape ## This contains a lot of duplicated rows\n",
    "video_empath_df = video_empath_df.drop_duplicates().reset_index(drop = True)\n",
    "video_empath_df.shape"
   ]
  },
  {
   "cell_type": "code",
   "execution_count": 9,
   "id": "70b86360-a31b-4e65-a331-cbcd340bd259",
   "metadata": {
    "tags": []
   },
   "outputs": [
    {
     "data": {
      "text/html": [
       "<div>\n",
       "<style scoped>\n",
       "    .dataframe tbody tr th:only-of-type {\n",
       "        vertical-align: middle;\n",
       "    }\n",
       "\n",
       "    .dataframe tbody tr th {\n",
       "        vertical-align: top;\n",
       "    }\n",
       "\n",
       "    .dataframe thead th {\n",
       "        text-align: right;\n",
       "    }\n",
       "</style>\n",
       "<table border=\"1\" class=\"dataframe\">\n",
       "  <thead>\n",
       "    <tr style=\"text-align: right;\">\n",
       "      <th></th>\n",
       "      <th>channel_name</th>\n",
       "      <th>video_genre</th>\n",
       "      <th>video_id</th>\n",
       "      <th>video_title</th>\n",
       "      <th>video_help</th>\n",
       "      <th>video_office</th>\n",
       "      <th>video_dance</th>\n",
       "      <th>video_money</th>\n",
       "      <th>video_wedding</th>\n",
       "      <th>video_domestic_work</th>\n",
       "      <th>...</th>\n",
       "      <th>video_weapon</th>\n",
       "      <th>video_children</th>\n",
       "      <th>video_monster</th>\n",
       "      <th>video_ocean</th>\n",
       "      <th>video_giving</th>\n",
       "      <th>video_contentment</th>\n",
       "      <th>video_writing</th>\n",
       "      <th>video_rural</th>\n",
       "      <th>video_positive_emotion</th>\n",
       "      <th>video_musical</th>\n",
       "    </tr>\n",
       "  </thead>\n",
       "  <tbody>\n",
       "    <tr>\n",
       "      <th>0</th>\n",
       "      <td>PewDiePie</td>\n",
       "      <td>action</td>\n",
       "      <td>F-yEoHL7MYY</td>\n",
       "      <td>I t̶r̶i̶e̶d̶ ̶t̶o̶ beat Elden Ring Without Dyi...</td>\n",
       "      <td>0.001459</td>\n",
       "      <td>0.001571</td>\n",
       "      <td>0.001459</td>\n",
       "      <td>0.001795</td>\n",
       "      <td>0.001795</td>\n",
       "      <td>0.000561</td>\n",
       "      <td>...</td>\n",
       "      <td>0.008527</td>\n",
       "      <td>0.005834</td>\n",
       "      <td>0.001122</td>\n",
       "      <td>0.000337</td>\n",
       "      <td>0.004039</td>\n",
       "      <td>0.000673</td>\n",
       "      <td>0.000561</td>\n",
       "      <td>0.000785</td>\n",
       "      <td>0.007966</td>\n",
       "      <td>0.001683</td>\n",
       "    </tr>\n",
       "    <tr>\n",
       "      <th>1</th>\n",
       "      <td>PewDiePie</td>\n",
       "      <td>action</td>\n",
       "      <td>PV4NGwn_xdI</td>\n",
       "      <td>Elden Ring #1 - 0 DEATH PLAYTHROUGH</td>\n",
       "      <td>0.001245</td>\n",
       "      <td>0.001245</td>\n",
       "      <td>0.000622</td>\n",
       "      <td>0.001867</td>\n",
       "      <td>0.002489</td>\n",
       "      <td>0.000000</td>\n",
       "      <td>...</td>\n",
       "      <td>0.006223</td>\n",
       "      <td>0.011201</td>\n",
       "      <td>0.001245</td>\n",
       "      <td>0.006223</td>\n",
       "      <td>0.004356</td>\n",
       "      <td>0.000000</td>\n",
       "      <td>0.000622</td>\n",
       "      <td>0.001245</td>\n",
       "      <td>0.011201</td>\n",
       "      <td>0.001867</td>\n",
       "    </tr>\n",
       "  </tbody>\n",
       "</table>\n",
       "<p>2 rows × 198 columns</p>\n",
       "</div>"
      ],
      "text/plain": [
       "  channel_name video_genre     video_id  \\\n",
       "0    PewDiePie      action  F-yEoHL7MYY   \n",
       "1    PewDiePie      action  PV4NGwn_xdI   \n",
       "\n",
       "                                         video_title  video_help  \\\n",
       "0  I t̶r̶i̶e̶d̶ ̶t̶o̶ beat Elden Ring Without Dyi...    0.001459   \n",
       "1                Elden Ring #1 - 0 DEATH PLAYTHROUGH    0.001245   \n",
       "\n",
       "   video_office  video_dance  video_money  video_wedding  video_domestic_work  \\\n",
       "0      0.001571     0.001459     0.001795       0.001795             0.000561   \n",
       "1      0.001245     0.000622     0.001867       0.002489             0.000000   \n",
       "\n",
       "   ...  video_weapon  video_children  video_monster  video_ocean  \\\n",
       "0  ...      0.008527        0.005834       0.001122     0.000337   \n",
       "1  ...      0.006223        0.011201       0.001245     0.006223   \n",
       "\n",
       "   video_giving  video_contentment  video_writing  video_rural  \\\n",
       "0      0.004039           0.000673       0.000561     0.000785   \n",
       "1      0.004356           0.000000       0.000622     0.001245   \n",
       "\n",
       "   video_positive_emotion  video_musical  \n",
       "0                0.007966       0.001683  \n",
       "1                0.011201       0.001867  \n",
       "\n",
       "[2 rows x 198 columns]"
      ]
     },
     "execution_count": 9,
     "metadata": {},
     "output_type": "execute_result"
    }
   ],
   "source": [
    "video_empath_df.head(2)"
   ]
  },
  {
   "cell_type": "markdown",
   "id": "bbb35a56-75a9-4c7c-b42b-74d1560114fb",
   "metadata": {},
   "source": [
    "## 3. Dataframes for Comments"
   ]
  },
  {
   "cell_type": "markdown",
   "id": "4493f190-307c-4af2-9f62-777fb0d9d438",
   "metadata": {},
   "source": [
    "### comment_info_vader_txtblb_df: channel name + video info + comment info + text vader, textblob"
   ]
  },
  {
   "cell_type": "code",
   "execution_count": 10,
   "id": "a4a0a0cd-22fc-4c08-9632-b5cdbacd88a3",
   "metadata": {
    "tags": []
   },
   "outputs": [
    {
     "data": {
      "text/html": [
       "<div>\n",
       "<style scoped>\n",
       "    .dataframe tbody tr th:only-of-type {\n",
       "        vertical-align: middle;\n",
       "    }\n",
       "\n",
       "    .dataframe tbody tr th {\n",
       "        vertical-align: top;\n",
       "    }\n",
       "\n",
       "    .dataframe thead th {\n",
       "        text-align: right;\n",
       "    }\n",
       "</style>\n",
       "<table border=\"1\" class=\"dataframe\">\n",
       "  <thead>\n",
       "    <tr style=\"text-align: right;\">\n",
       "      <th></th>\n",
       "      <th>channel_name</th>\n",
       "      <th>video_genre</th>\n",
       "      <th>video_id</th>\n",
       "      <th>video_title</th>\n",
       "      <th>comment_author_id</th>\n",
       "      <th>comment_text</th>\n",
       "      <th>comment_time</th>\n",
       "      <th>comment_likecount</th>\n",
       "      <th>comment_replycount</th>\n",
       "      <th>comment_language</th>\n",
       "      <th>comment_neg</th>\n",
       "      <th>comment_neu</th>\n",
       "      <th>comment_pos</th>\n",
       "      <th>comment_compound</th>\n",
       "      <th>comment_polarity</th>\n",
       "      <th>comment_subjectivity</th>\n",
       "    </tr>\n",
       "  </thead>\n",
       "  <tbody>\n",
       "    <tr>\n",
       "      <th>0</th>\n",
       "      <td>PewDiePie</td>\n",
       "      <td>action</td>\n",
       "      <td>F-yEoHL7MYY</td>\n",
       "      <td>I t̶r̶i̶e̶d̶ ̶t̶o̶ beat Elden Ring Without Dyi...</td>\n",
       "      <td>UCLHsZ4X7YemjxRrvq0AI4LA</td>\n",
       "      <td>Damn dude, even with mimic I think it would ta...</td>\n",
       "      <td>2022-05-02 19:37:22+00:00</td>\n",
       "      <td>9892.0</td>\n",
       "      <td>47.0</td>\n",
       "      <td>['en']</td>\n",
       "      <td>0.087</td>\n",
       "      <td>0.743</td>\n",
       "      <td>0.170</td>\n",
       "      <td>0.3707</td>\n",
       "      <td>0.400000</td>\n",
       "      <td>0.400000</td>\n",
       "    </tr>\n",
       "    <tr>\n",
       "      <th>1</th>\n",
       "      <td>PewDiePie</td>\n",
       "      <td>action</td>\n",
       "      <td>F-yEoHL7MYY</td>\n",
       "      <td>I t̶r̶i̶e̶d̶ ̶t̶o̶ beat Elden Ring Without Dyi...</td>\n",
       "      <td>UCJ9VDCLZDmeJIU3Branlstg</td>\n",
       "      <td>This is the pewds that I thought he’d turn int...</td>\n",
       "      <td>2022-12-14 23:36:11+00:00</td>\n",
       "      <td>6290.0</td>\n",
       "      <td>9.0</td>\n",
       "      <td>['en']</td>\n",
       "      <td>0.000</td>\n",
       "      <td>0.868</td>\n",
       "      <td>0.132</td>\n",
       "      <td>0.5859</td>\n",
       "      <td>0.345238</td>\n",
       "      <td>0.345238</td>\n",
       "    </tr>\n",
       "  </tbody>\n",
       "</table>\n",
       "</div>"
      ],
      "text/plain": [
       "  channel_name video_genre     video_id  \\\n",
       "0    PewDiePie      action  F-yEoHL7MYY   \n",
       "1    PewDiePie      action  F-yEoHL7MYY   \n",
       "\n",
       "                                         video_title  \\\n",
       "0  I t̶r̶i̶e̶d̶ ̶t̶o̶ beat Elden Ring Without Dyi...   \n",
       "1  I t̶r̶i̶e̶d̶ ̶t̶o̶ beat Elden Ring Without Dyi...   \n",
       "\n",
       "          comment_author_id  \\\n",
       "0  UCLHsZ4X7YemjxRrvq0AI4LA   \n",
       "1  UCJ9VDCLZDmeJIU3Branlstg   \n",
       "\n",
       "                                        comment_text  \\\n",
       "0  Damn dude, even with mimic I think it would ta...   \n",
       "1  This is the pewds that I thought he’d turn int...   \n",
       "\n",
       "                comment_time  comment_likecount  comment_replycount  \\\n",
       "0  2022-05-02 19:37:22+00:00             9892.0                47.0   \n",
       "1  2022-12-14 23:36:11+00:00             6290.0                 9.0   \n",
       "\n",
       "  comment_language  comment_neg  comment_neu  comment_pos  comment_compound  \\\n",
       "0           ['en']        0.087        0.743        0.170            0.3707   \n",
       "1           ['en']        0.000        0.868        0.132            0.5859   \n",
       "\n",
       "   comment_polarity  comment_subjectivity  \n",
       "0          0.400000              0.400000  \n",
       "1          0.345238              0.345238  "
      ]
     },
     "execution_count": 10,
     "metadata": {},
     "output_type": "execute_result"
    }
   ],
   "source": [
    "comment_info_vader_txtblb_df = df[comment_info_vader_txtblb]\n",
    "comment_info_vader_txtblb_df.duplicated().value_counts() # There is no duplicated value in comments section\n",
    "comment_info_vader_txtblb_df = comment_info_vader_txtblb_df.drop(['comment_toxicity','comment_severe_toxicity', 'comment_identity_attack', 'comment_insult', 'comment_profanity', 'comment_threat'], axis = 1)\n",
    "comment_info_vader_txtblb_df.head(2)"
   ]
  },
  {
   "cell_type": "markdown",
   "id": "2e1fe00c-0c8f-4253-b7bf-4c4eb17892bd",
   "metadata": {},
   "source": [
    "### comment_perspective_df : comment info + perspective api labeling"
   ]
  },
  {
   "cell_type": "code",
   "execution_count": 11,
   "id": "6e8886f8-39e1-4839-b9b8-c199df7e28ab",
   "metadata": {
    "tags": []
   },
   "outputs": [
    {
     "data": {
      "text/html": [
       "<div>\n",
       "<style scoped>\n",
       "    .dataframe tbody tr th:only-of-type {\n",
       "        vertical-align: middle;\n",
       "    }\n",
       "\n",
       "    .dataframe tbody tr th {\n",
       "        vertical-align: top;\n",
       "    }\n",
       "\n",
       "    .dataframe thead th {\n",
       "        text-align: right;\n",
       "    }\n",
       "</style>\n",
       "<table border=\"1\" class=\"dataframe\">\n",
       "  <thead>\n",
       "    <tr style=\"text-align: right;\">\n",
       "      <th></th>\n",
       "      <th>channel_name</th>\n",
       "      <th>video_genre</th>\n",
       "      <th>video_id</th>\n",
       "      <th>video_title</th>\n",
       "      <th>comment_author_id</th>\n",
       "      <th>comment_cleaned</th>\n",
       "      <th>comment_tokenized</th>\n",
       "      <th>comment_toxicity</th>\n",
       "      <th>comment_severe_toxicity</th>\n",
       "      <th>comment_identity_attack</th>\n",
       "      <th>comment_insult</th>\n",
       "      <th>comment_profanity</th>\n",
       "      <th>comment_threat</th>\n",
       "    </tr>\n",
       "  </thead>\n",
       "  <tbody>\n",
       "    <tr>\n",
       "      <th>0</th>\n",
       "      <td>PewDiePie</td>\n",
       "      <td>action</td>\n",
       "      <td>F-yEoHL7MYY</td>\n",
       "      <td>I t̶r̶i̶e̶d̶ ̶t̶o̶ beat Elden Ring Without Dyi...</td>\n",
       "      <td>UCLHsZ4X7YemjxRrvq0AI4LA</td>\n",
       "      <td>damn dude even mimic think would take approxim...</td>\n",
       "      <td>['damn', 'dude', 'even', 'mimic', 'think', 'wo...</td>\n",
       "      <td>0.543256</td>\n",
       "      <td>0.034110</td>\n",
       "      <td>0.028629</td>\n",
       "      <td>0.338892</td>\n",
       "      <td>0.627178</td>\n",
       "      <td>0.049451</td>\n",
       "    </tr>\n",
       "    <tr>\n",
       "      <th>1</th>\n",
       "      <td>PewDiePie</td>\n",
       "      <td>action</td>\n",
       "      <td>F-yEoHL7MYY</td>\n",
       "      <td>I t̶r̶i̶e̶d̶ ̶t̶o̶ beat Elden Ring Without Dyi...</td>\n",
       "      <td>UCJ9VDCLZDmeJIU3Branlstg</td>\n",
       "      <td>pewds thought would turn gaming early channel ...</td>\n",
       "      <td>['pewds', 'thought', 'would', 'turn', 'gaming'...</td>\n",
       "      <td>0.077668</td>\n",
       "      <td>0.004120</td>\n",
       "      <td>0.011765</td>\n",
       "      <td>0.019741</td>\n",
       "      <td>0.039407</td>\n",
       "      <td>0.010991</td>\n",
       "    </tr>\n",
       "    <tr>\n",
       "      <th>2</th>\n",
       "      <td>PewDiePie</td>\n",
       "      <td>action</td>\n",
       "      <td>F-yEoHL7MYY</td>\n",
       "      <td>I t̶r̶i̶e̶d̶ ̶t̶o̶ beat Elden Ring Without Dyi...</td>\n",
       "      <td>UCs-mo1206PASdacjDqfdLng</td>\n",
       "      <td>actually awesome cannot believe meme became tr...</td>\n",
       "      <td>['actually', 'awesome', 'can', 'not', 'believe...</td>\n",
       "      <td>0.146031</td>\n",
       "      <td>0.006599</td>\n",
       "      <td>0.009027</td>\n",
       "      <td>0.021933</td>\n",
       "      <td>0.064458</td>\n",
       "      <td>0.055594</td>\n",
       "    </tr>\n",
       "    <tr>\n",
       "      <th>3</th>\n",
       "      <td>PewDiePie</td>\n",
       "      <td>action</td>\n",
       "      <td>F-yEoHL7MYY</td>\n",
       "      <td>I t̶r̶i̶e̶d̶ ̶t̶o̶ beat Elden Ring Without Dyi...</td>\n",
       "      <td>UCZbZYh7zCRnS1agWpUkOogw</td>\n",
       "      <td>wow even know pewds analytical strategical gam...</td>\n",
       "      <td>['wow', 'even', 'know', 'pewds', 'analytical',...</td>\n",
       "      <td>0.081625</td>\n",
       "      <td>0.004139</td>\n",
       "      <td>0.010137</td>\n",
       "      <td>0.017228</td>\n",
       "      <td>0.041161</td>\n",
       "      <td>0.021127</td>\n",
       "    </tr>\n",
       "    <tr>\n",
       "      <th>4</th>\n",
       "      <td>PewDiePie</td>\n",
       "      <td>action</td>\n",
       "      <td>F-yEoHL7MYY</td>\n",
       "      <td>I t̶r̶i̶e̶d̶ ̶t̶o̶ beat Elden Ring Without Dyi...</td>\n",
       "      <td>UCx2sOV-ra7OD75snrhwOWxA</td>\n",
       "      <td>damn cannot believe took months finally watch ...</td>\n",
       "      <td>['damn', 'can', 'not', 'believe', 'took', 'mon...</td>\n",
       "      <td>0.457030</td>\n",
       "      <td>0.024115</td>\n",
       "      <td>0.028017</td>\n",
       "      <td>0.154143</td>\n",
       "      <td>0.508187</td>\n",
       "      <td>0.011379</td>\n",
       "    </tr>\n",
       "  </tbody>\n",
       "</table>\n",
       "</div>"
      ],
      "text/plain": [
       "  channel_name video_genre     video_id  \\\n",
       "0    PewDiePie      action  F-yEoHL7MYY   \n",
       "1    PewDiePie      action  F-yEoHL7MYY   \n",
       "2    PewDiePie      action  F-yEoHL7MYY   \n",
       "3    PewDiePie      action  F-yEoHL7MYY   \n",
       "4    PewDiePie      action  F-yEoHL7MYY   \n",
       "\n",
       "                                         video_title  \\\n",
       "0  I t̶r̶i̶e̶d̶ ̶t̶o̶ beat Elden Ring Without Dyi...   \n",
       "1  I t̶r̶i̶e̶d̶ ̶t̶o̶ beat Elden Ring Without Dyi...   \n",
       "2  I t̶r̶i̶e̶d̶ ̶t̶o̶ beat Elden Ring Without Dyi...   \n",
       "3  I t̶r̶i̶e̶d̶ ̶t̶o̶ beat Elden Ring Without Dyi...   \n",
       "4  I t̶r̶i̶e̶d̶ ̶t̶o̶ beat Elden Ring Without Dyi...   \n",
       "\n",
       "          comment_author_id  \\\n",
       "0  UCLHsZ4X7YemjxRrvq0AI4LA   \n",
       "1  UCJ9VDCLZDmeJIU3Branlstg   \n",
       "2  UCs-mo1206PASdacjDqfdLng   \n",
       "3  UCZbZYh7zCRnS1agWpUkOogw   \n",
       "4  UCx2sOV-ra7OD75snrhwOWxA   \n",
       "\n",
       "                                     comment_cleaned  \\\n",
       "0  damn dude even mimic think would take approxim...   \n",
       "1  pewds thought would turn gaming early channel ...   \n",
       "2  actually awesome cannot believe meme became tr...   \n",
       "3  wow even know pewds analytical strategical gam...   \n",
       "4  damn cannot believe took months finally watch ...   \n",
       "\n",
       "                                   comment_tokenized  comment_toxicity  \\\n",
       "0  ['damn', 'dude', 'even', 'mimic', 'think', 'wo...          0.543256   \n",
       "1  ['pewds', 'thought', 'would', 'turn', 'gaming'...          0.077668   \n",
       "2  ['actually', 'awesome', 'can', 'not', 'believe...          0.146031   \n",
       "3  ['wow', 'even', 'know', 'pewds', 'analytical',...          0.081625   \n",
       "4  ['damn', 'can', 'not', 'believe', 'took', 'mon...          0.457030   \n",
       "\n",
       "   comment_severe_toxicity  comment_identity_attack  comment_insult  \\\n",
       "0                 0.034110                 0.028629        0.338892   \n",
       "1                 0.004120                 0.011765        0.019741   \n",
       "2                 0.006599                 0.009027        0.021933   \n",
       "3                 0.004139                 0.010137        0.017228   \n",
       "4                 0.024115                 0.028017        0.154143   \n",
       "\n",
       "   comment_profanity  comment_threat  \n",
       "0           0.627178        0.049451  \n",
       "1           0.039407        0.010991  \n",
       "2           0.064458        0.055594  \n",
       "3           0.041161        0.021127  \n",
       "4           0.508187        0.011379  "
      ]
     },
     "execution_count": 11,
     "metadata": {},
     "output_type": "execute_result"
    }
   ],
   "source": [
    "comment_perspective_df = df[comment_perspective]\n",
    "comment_perspective_df.head()"
   ]
  },
  {
   "cell_type": "markdown",
   "id": "e133b242-34ac-4ffe-b5a9-ebb37ff88095",
   "metadata": {},
   "source": [
    "### comment_empath_df: comment's empath keywords"
   ]
  },
  {
   "cell_type": "code",
   "execution_count": 12,
   "id": "aa4f3a18-819d-498d-8e2e-3e4c5cec7b03",
   "metadata": {},
   "outputs": [
    {
     "data": {
      "text/html": [
       "<div>\n",
       "<style scoped>\n",
       "    .dataframe tbody tr th:only-of-type {\n",
       "        vertical-align: middle;\n",
       "    }\n",
       "\n",
       "    .dataframe tbody tr th {\n",
       "        vertical-align: top;\n",
       "    }\n",
       "\n",
       "    .dataframe thead th {\n",
       "        text-align: right;\n",
       "    }\n",
       "</style>\n",
       "<table border=\"1\" class=\"dataframe\">\n",
       "  <thead>\n",
       "    <tr style=\"text-align: right;\">\n",
       "      <th></th>\n",
       "      <th>channel_name</th>\n",
       "      <th>video_genre</th>\n",
       "      <th>video_id</th>\n",
       "      <th>video_title</th>\n",
       "      <th>comment_cleaned</th>\n",
       "      <th>comment_tokenized</th>\n",
       "      <th>comment_help</th>\n",
       "      <th>comment_office</th>\n",
       "      <th>comment_dance</th>\n",
       "      <th>comment_money</th>\n",
       "      <th>...</th>\n",
       "      <th>comment_weapon</th>\n",
       "      <th>comment_children</th>\n",
       "      <th>comment_monster</th>\n",
       "      <th>comment_ocean</th>\n",
       "      <th>comment_giving</th>\n",
       "      <th>comment_contentment</th>\n",
       "      <th>comment_writing</th>\n",
       "      <th>comment_rural</th>\n",
       "      <th>comment_positive_emotion</th>\n",
       "      <th>comment_musical</th>\n",
       "    </tr>\n",
       "  </thead>\n",
       "  <tbody>\n",
       "    <tr>\n",
       "      <th>0</th>\n",
       "      <td>PewDiePie</td>\n",
       "      <td>action</td>\n",
       "      <td>F-yEoHL7MYY</td>\n",
       "      <td>I t̶r̶i̶e̶d̶ ̶t̶o̶ beat Elden Ring Without Dyi...</td>\n",
       "      <td>damn dude even mimic think would take approxim...</td>\n",
       "      <td>['damn', 'dude', 'even', 'mimic', 'think', 'wo...</td>\n",
       "      <td>0.0</td>\n",
       "      <td>0.0</td>\n",
       "      <td>0.0</td>\n",
       "      <td>0.0</td>\n",
       "      <td>...</td>\n",
       "      <td>0.0</td>\n",
       "      <td>0.0</td>\n",
       "      <td>0.0</td>\n",
       "      <td>0.0</td>\n",
       "      <td>0.0</td>\n",
       "      <td>0.000000</td>\n",
       "      <td>0.0</td>\n",
       "      <td>0.0</td>\n",
       "      <td>0.000000</td>\n",
       "      <td>0.0</td>\n",
       "    </tr>\n",
       "    <tr>\n",
       "      <th>1</th>\n",
       "      <td>PewDiePie</td>\n",
       "      <td>action</td>\n",
       "      <td>F-yEoHL7MYY</td>\n",
       "      <td>I t̶r̶i̶e̶d̶ ̶t̶o̶ beat Elden Ring Without Dyi...</td>\n",
       "      <td>pewds thought would turn gaming early channel ...</td>\n",
       "      <td>['pewds', 'thought', 'would', 'turn', 'gaming'...</td>\n",
       "      <td>0.0</td>\n",
       "      <td>0.0</td>\n",
       "      <td>0.0</td>\n",
       "      <td>0.0</td>\n",
       "      <td>...</td>\n",
       "      <td>0.0</td>\n",
       "      <td>0.0</td>\n",
       "      <td>0.0</td>\n",
       "      <td>0.0</td>\n",
       "      <td>0.0</td>\n",
       "      <td>0.038462</td>\n",
       "      <td>0.0</td>\n",
       "      <td>0.0</td>\n",
       "      <td>0.038462</td>\n",
       "      <td>0.0</td>\n",
       "    </tr>\n",
       "  </tbody>\n",
       "</table>\n",
       "<p>2 rows × 200 columns</p>\n",
       "</div>"
      ],
      "text/plain": [
       "  channel_name video_genre     video_id  \\\n",
       "0    PewDiePie      action  F-yEoHL7MYY   \n",
       "1    PewDiePie      action  F-yEoHL7MYY   \n",
       "\n",
       "                                         video_title  \\\n",
       "0  I t̶r̶i̶e̶d̶ ̶t̶o̶ beat Elden Ring Without Dyi...   \n",
       "1  I t̶r̶i̶e̶d̶ ̶t̶o̶ beat Elden Ring Without Dyi...   \n",
       "\n",
       "                                     comment_cleaned  \\\n",
       "0  damn dude even mimic think would take approxim...   \n",
       "1  pewds thought would turn gaming early channel ...   \n",
       "\n",
       "                                   comment_tokenized  comment_help  \\\n",
       "0  ['damn', 'dude', 'even', 'mimic', 'think', 'wo...           0.0   \n",
       "1  ['pewds', 'thought', 'would', 'turn', 'gaming'...           0.0   \n",
       "\n",
       "   comment_office  comment_dance  comment_money  ...  comment_weapon  \\\n",
       "0             0.0            0.0            0.0  ...             0.0   \n",
       "1             0.0            0.0            0.0  ...             0.0   \n",
       "\n",
       "   comment_children  comment_monster  comment_ocean  comment_giving  \\\n",
       "0               0.0              0.0            0.0             0.0   \n",
       "1               0.0              0.0            0.0             0.0   \n",
       "\n",
       "   comment_contentment  comment_writing  comment_rural  \\\n",
       "0             0.000000              0.0            0.0   \n",
       "1             0.038462              0.0            0.0   \n",
       "\n",
       "   comment_positive_emotion  comment_musical  \n",
       "0                  0.000000              0.0  \n",
       "1                  0.038462              0.0  \n",
       "\n",
       "[2 rows x 200 columns]"
      ]
     },
     "execution_count": 12,
     "metadata": {},
     "output_type": "execute_result"
    }
   ],
   "source": [
    "comment_empath_df = df[comment_empath]\n",
    "comment_empath_df.head(2)"
   ]
  },
  {
   "cell_type": "markdown",
   "id": "5072b6a8-50c8-48ed-b3dc-3e5232d318b9",
   "metadata": {},
   "source": [
    "## 4. EDA for YouTube Transcripts"
   ]
  },
  {
   "cell_type": "code",
   "execution_count": 13,
   "id": "1d42c37a-9d49-493d-be98-32c84d306311",
   "metadata": {},
   "outputs": [],
   "source": [
    "# simple_df = df[['channel_name','video_title', 'video_creation_time', \n",
    "#                 'video_viewcount','video_likecount', 'video_commentcount','comment_time',\n",
    "#        'comment_likecount', 'comment_replycount', 'video_genre', 'comment_cleaned',\n",
    "#        'comment_tokenized']]"
   ]
  },
  {
   "cell_type": "code",
   "execution_count": 21,
   "id": "6c5f09d7-38cd-4124-b68d-a62cc34af29e",
   "metadata": {},
   "outputs": [],
   "source": [
    "# simple_df['video_title_lower'] = simple_df['video_title'].str.lower()\n",
    "# simple_df['game'] = simple_df['video_title_lower'].apply(lambda title: ', '.join([keyword for keyword in all_games if keyword in title]))\n",
    "# simple_df.drop(columns=['video_title_lower'], inplace=True)"
   ]
  },
  {
   "cell_type": "code",
   "execution_count": 32,
   "id": "8d1ea5e6-1e6c-4be1-9415-6ece201fa368",
   "metadata": {},
   "outputs": [
    {
     "data": {
      "text/html": [
       "<div>\n",
       "<style scoped>\n",
       "    .dataframe tbody tr th:only-of-type {\n",
       "        vertical-align: middle;\n",
       "    }\n",
       "\n",
       "    .dataframe tbody tr th {\n",
       "        vertical-align: top;\n",
       "    }\n",
       "\n",
       "    .dataframe thead th {\n",
       "        text-align: right;\n",
       "    }\n",
       "</style>\n",
       "<table border=\"1\" class=\"dataframe\">\n",
       "  <thead>\n",
       "    <tr style=\"text-align: right;\">\n",
       "      <th></th>\n",
       "      <th>channel_name</th>\n",
       "      <th>video_genre</th>\n",
       "      <th>video_id</th>\n",
       "      <th>video_title</th>\n",
       "      <th>video_toxicity</th>\n",
       "      <th>video_severe_toxicity</th>\n",
       "      <th>video_identity_attack</th>\n",
       "      <th>video_insult</th>\n",
       "      <th>video_profanity</th>\n",
       "      <th>video_threat</th>\n",
       "    </tr>\n",
       "  </thead>\n",
       "  <tbody>\n",
       "    <tr>\n",
       "      <th>0</th>\n",
       "      <td>PewDiePie</td>\n",
       "      <td>action</td>\n",
       "      <td>F-yEoHL7MYY</td>\n",
       "      <td>I t̶r̶i̶e̶d̶ ̶t̶o̶ beat Elden Ring Without Dyi...</td>\n",
       "      <td>0.358079</td>\n",
       "      <td>0.071938</td>\n",
       "      <td>0.056368</td>\n",
       "      <td>0.148396</td>\n",
       "      <td>0.244498</td>\n",
       "      <td>0.224883</td>\n",
       "    </tr>\n",
       "    <tr>\n",
       "      <th>1</th>\n",
       "      <td>PewDiePie</td>\n",
       "      <td>action</td>\n",
       "      <td>F-yEoHL7MYY</td>\n",
       "      <td>I t̶r̶i̶e̶d̶ ̶t̶o̶ beat Elden Ring Without Dyi...</td>\n",
       "      <td>0.358079</td>\n",
       "      <td>0.071938</td>\n",
       "      <td>0.056368</td>\n",
       "      <td>0.148396</td>\n",
       "      <td>0.244498</td>\n",
       "      <td>0.224883</td>\n",
       "    </tr>\n",
       "  </tbody>\n",
       "</table>\n",
       "</div>"
      ],
      "text/plain": [
       "  channel_name video_genre     video_id  \\\n",
       "0    PewDiePie      action  F-yEoHL7MYY   \n",
       "1    PewDiePie      action  F-yEoHL7MYY   \n",
       "\n",
       "                                         video_title  video_toxicity  \\\n",
       "0  I t̶r̶i̶e̶d̶ ̶t̶o̶ beat Elden Ring Without Dyi...        0.358079   \n",
       "1  I t̶r̶i̶e̶d̶ ̶t̶o̶ beat Elden Ring Without Dyi...        0.358079   \n",
       "\n",
       "   video_severe_toxicity  video_identity_attack  video_insult  \\\n",
       "0               0.071938               0.056368      0.148396   \n",
       "1               0.071938               0.056368      0.148396   \n",
       "\n",
       "   video_profanity  video_threat  \n",
       "0         0.244498      0.224883  \n",
       "1         0.244498      0.224883  "
      ]
     },
     "execution_count": 32,
     "metadata": {},
     "output_type": "execute_result"
    }
   ],
   "source": [
    "video_perspective_df.head(2)"
   ]
  },
  {
   "cell_type": "code",
   "execution_count": 22,
   "id": "d19ce82e-47a2-48b0-9428-a89dde6a8453",
   "metadata": {},
   "outputs": [],
   "source": [
    "all_games = [\n",
    "    \"call of duty\", \"gta\", \"the last of us\", \"god of war\", \"batman\", \n",
    "    \"red dead redemption\", \"assassin's creed\", \"star wars jedi\", \n",
    "    \"resident evil\", \"cyberpunk\", \"fallout\", \"tomb raider\", \"elden ring\",\n",
    "    \"minecraft\", \"pokemon go\", \"just dance\", \"it takes two\", \"uncharted\",\n",
    "    \"brawl stars\"]"
   ]
  },
  {
   "cell_type": "code",
   "execution_count": 23,
   "id": "f1a2936d-6b22-49cf-a126-626638502c17",
   "metadata": {
    "tags": []
   },
   "outputs": [
    {
     "data": {
      "text/html": [
       "<div>\n",
       "<style scoped>\n",
       "    .dataframe tbody tr th:only-of-type {\n",
       "        vertical-align: middle;\n",
       "    }\n",
       "\n",
       "    .dataframe tbody tr th {\n",
       "        vertical-align: top;\n",
       "    }\n",
       "\n",
       "    .dataframe thead th {\n",
       "        text-align: right;\n",
       "    }\n",
       "</style>\n",
       "<table border=\"1\" class=\"dataframe\">\n",
       "  <thead>\n",
       "    <tr style=\"text-align: right;\">\n",
       "      <th></th>\n",
       "      <th>channel_name</th>\n",
       "      <th>video_genre</th>\n",
       "      <th>video_id</th>\n",
       "      <th>video_title</th>\n",
       "      <th>video_creation_time</th>\n",
       "      <th>video_viewcount</th>\n",
       "      <th>video_likecount</th>\n",
       "      <th>video_commentcount</th>\n",
       "      <th>video_language</th>\n",
       "      <th>video_neg</th>\n",
       "      <th>video_neu</th>\n",
       "      <th>video_pos</th>\n",
       "      <th>video_compound</th>\n",
       "      <th>video_polarity</th>\n",
       "      <th>video_subjectivity</th>\n",
       "    </tr>\n",
       "  </thead>\n",
       "  <tbody>\n",
       "    <tr>\n",
       "      <th>0</th>\n",
       "      <td>PewDiePie</td>\n",
       "      <td>action</td>\n",
       "      <td>F-yEoHL7MYY</td>\n",
       "      <td>I t̶r̶i̶e̶d̶ ̶t̶o̶ beat Elden Ring Without Dyi...</td>\n",
       "      <td>2022-04-30 16:40:18+00:00</td>\n",
       "      <td>11582061</td>\n",
       "      <td>473895</td>\n",
       "      <td>15142.0</td>\n",
       "      <td>['en']</td>\n",
       "      <td>0.134</td>\n",
       "      <td>0.723</td>\n",
       "      <td>0.143</td>\n",
       "      <td>0.9951</td>\n",
       "      <td>0.495382</td>\n",
       "      <td>0.495382</td>\n",
       "    </tr>\n",
       "    <tr>\n",
       "      <th>1</th>\n",
       "      <td>PewDiePie</td>\n",
       "      <td>action</td>\n",
       "      <td>PV4NGwn_xdI</td>\n",
       "      <td>Elden Ring #1 - 0 DEATH PLAYTHROUGH</td>\n",
       "      <td>2022-02-24 15:00:10+00:00</td>\n",
       "      <td>5178533</td>\n",
       "      <td>192094</td>\n",
       "      <td>4313.0</td>\n",
       "      <td>['en']</td>\n",
       "      <td>0.143</td>\n",
       "      <td>0.668</td>\n",
       "      <td>0.190</td>\n",
       "      <td>0.9976</td>\n",
       "      <td>0.576037</td>\n",
       "      <td>0.576037</td>\n",
       "    </tr>\n",
       "  </tbody>\n",
       "</table>\n",
       "</div>"
      ],
      "text/plain": [
       "  channel_name video_genre     video_id  \\\n",
       "0    PewDiePie      action  F-yEoHL7MYY   \n",
       "1    PewDiePie      action  PV4NGwn_xdI   \n",
       "\n",
       "                                         video_title  \\\n",
       "0  I t̶r̶i̶e̶d̶ ̶t̶o̶ beat Elden Ring Without Dyi...   \n",
       "1                Elden Ring #1 - 0 DEATH PLAYTHROUGH   \n",
       "\n",
       "         video_creation_time  video_viewcount  video_likecount  \\\n",
       "0  2022-04-30 16:40:18+00:00         11582061           473895   \n",
       "1  2022-02-24 15:00:10+00:00          5178533           192094   \n",
       "\n",
       "   video_commentcount video_language  video_neg  video_neu  video_pos  \\\n",
       "0             15142.0         ['en']      0.134      0.723      0.143   \n",
       "1              4313.0         ['en']      0.143      0.668      0.190   \n",
       "\n",
       "   video_compound  video_polarity  video_subjectivity  \n",
       "0          0.9951        0.495382            0.495382  \n",
       "1          0.9976        0.576037            0.576037  "
      ]
     },
     "execution_count": 23,
     "metadata": {},
     "output_type": "execute_result"
    }
   ],
   "source": [
    "video_info_vader_txtblb_df.head(2)"
   ]
  },
  {
   "cell_type": "code",
   "execution_count": 33,
   "id": "caa5b170-10e2-4028-bbbf-b7369aaf401d",
   "metadata": {
    "tags": []
   },
   "outputs": [],
   "source": [
    "video_info_vader_txtblb_df['video_title_lower'] = video_info_vader_txtblb_df['video_title'].str.lower()\n",
    "video_info_vader_txtblb_df['game'] = video_info_vader_txtblb_df['video_title_lower'].apply(lambda title: ', '.join([keyword for keyword in all_games if keyword in title]))\n",
    "video_info_vader_txtblb_df.drop(columns=['video_title_lower'], inplace=True)"
   ]
  },
  {
   "cell_type": "code",
   "execution_count": 34,
   "id": "da2be44d-1fba-4435-aec5-123874c2999c",
   "metadata": {
    "tags": []
   },
   "outputs": [
    {
     "name": "stderr",
     "output_type": "stream",
     "text": [
      "/var/folders/_1/f4gv917x3jv_z8t21wgjlcrw0000gn/T/ipykernel_3851/2605331000.py:1: SettingWithCopyWarning: \n",
      "A value is trying to be set on a copy of a slice from a DataFrame.\n",
      "Try using .loc[row_indexer,col_indexer] = value instead\n",
      "\n",
      "See the caveats in the documentation: https://pandas.pydata.org/pandas-docs/stable/user_guide/indexing.html#returning-a-view-versus-a-copy\n",
      "  video_perspective_df['video_title_lower'] = video_perspective_df['video_title'].str.lower()\n",
      "/var/folders/_1/f4gv917x3jv_z8t21wgjlcrw0000gn/T/ipykernel_3851/2605331000.py:2: SettingWithCopyWarning: \n",
      "A value is trying to be set on a copy of a slice from a DataFrame.\n",
      "Try using .loc[row_indexer,col_indexer] = value instead\n",
      "\n",
      "See the caveats in the documentation: https://pandas.pydata.org/pandas-docs/stable/user_guide/indexing.html#returning-a-view-versus-a-copy\n",
      "  video_perspective_df['game'] = video_perspective_df['video_title_lower'].apply(lambda title: ', '.join([keyword for keyword in all_games if keyword in title]))\n",
      "/var/folders/_1/f4gv917x3jv_z8t21wgjlcrw0000gn/T/ipykernel_3851/2605331000.py:3: SettingWithCopyWarning: \n",
      "A value is trying to be set on a copy of a slice from a DataFrame\n",
      "\n",
      "See the caveats in the documentation: https://pandas.pydata.org/pandas-docs/stable/user_guide/indexing.html#returning-a-view-versus-a-copy\n",
      "  video_perspective_df.drop(columns=['video_title_lower'], inplace=True)\n"
     ]
    }
   ],
   "source": [
    "video_perspective_df['video_title_lower'] = video_perspective_df['video_title'].str.lower()\n",
    "video_perspective_df['game'] = video_perspective_df['video_title_lower'].apply(lambda title: ', '.join([keyword for keyword in all_games if keyword in title]))\n",
    "video_perspective_df.drop(columns=['video_title_lower'], inplace=True)"
   ]
  },
  {
   "cell_type": "code",
   "execution_count": 27,
   "id": "1c809bc3-033e-4ed5-a9fc-54af297f5c57",
   "metadata": {},
   "outputs": [],
   "source": [
    "video_sentiment_measures = ['video_neg','video_neu','video_pos','video_compound','video_polarity', 'video_subjectivity']\n",
    "video_perspective_measures = ['video_toxicity', 'video_severe_toxicity', 'video_identity_attack', 'video_insult', 'video_profanity', 'video_threat']"
   ]
  },
  {
   "cell_type": "markdown",
   "id": "e6c08f06-943d-49c0-a4bb-ccec5fccca25",
   "metadata": {},
   "source": [
    "## Toxicity by Game: Video Transcript"
   ]
  },
  {
   "cell_type": "code",
   "execution_count": 37,
   "id": "d3c88cdf-5ea6-432a-a166-9e8b678806a8",
   "metadata": {
    "tags": []
   },
   "outputs": [],
   "source": [
    "game_toxicity = video_perspective_df.groupby('game')[video_perspective_measures].mean().sort_values(by = 'video_toxicity', ascending=False)"
   ]
  },
  {
   "cell_type": "code",
   "execution_count": 38,
   "id": "e4d34888-35b6-4579-880a-eb5a88397adb",
   "metadata": {
    "tags": []
   },
   "outputs": [
    {
     "data": {
      "text/html": [
       "<div>\n",
       "<style scoped>\n",
       "    .dataframe tbody tr th:only-of-type {\n",
       "        vertical-align: middle;\n",
       "    }\n",
       "\n",
       "    .dataframe tbody tr th {\n",
       "        vertical-align: top;\n",
       "    }\n",
       "\n",
       "    .dataframe thead th {\n",
       "        text-align: right;\n",
       "    }\n",
       "</style>\n",
       "<table border=\"1\" class=\"dataframe\">\n",
       "  <thead>\n",
       "    <tr style=\"text-align: right;\">\n",
       "      <th></th>\n",
       "      <th>video_toxicity</th>\n",
       "      <th>video_severe_toxicity</th>\n",
       "      <th>video_identity_attack</th>\n",
       "      <th>video_insult</th>\n",
       "      <th>video_profanity</th>\n",
       "      <th>video_threat</th>\n",
       "    </tr>\n",
       "    <tr>\n",
       "      <th>game</th>\n",
       "      <th></th>\n",
       "      <th></th>\n",
       "      <th></th>\n",
       "      <th></th>\n",
       "      <th></th>\n",
       "      <th></th>\n",
       "    </tr>\n",
       "  </thead>\n",
       "  <tbody>\n",
       "    <tr>\n",
       "      <th>gta, pokemon go</th>\n",
       "      <td>0.519439</td>\n",
       "      <td>0.199532</td>\n",
       "      <td>0.108487</td>\n",
       "      <td>0.247346</td>\n",
       "      <td>0.389346</td>\n",
       "      <td>0.312245</td>\n",
       "    </tr>\n",
       "    <tr>\n",
       "      <th>resident evil</th>\n",
       "      <td>0.409674</td>\n",
       "      <td>0.118904</td>\n",
       "      <td>0.075690</td>\n",
       "      <td>0.215622</td>\n",
       "      <td>0.301832</td>\n",
       "      <td>0.195912</td>\n",
       "    </tr>\n",
       "    <tr>\n",
       "      <th>star wars jedi, minecraft</th>\n",
       "      <td>0.404682</td>\n",
       "      <td>0.098836</td>\n",
       "      <td>0.074913</td>\n",
       "      <td>0.202225</td>\n",
       "      <td>0.311184</td>\n",
       "      <td>0.178865</td>\n",
       "    </tr>\n",
       "    <tr>\n",
       "      <th>gta, minecraft</th>\n",
       "      <td>0.389314</td>\n",
       "      <td>0.102968</td>\n",
       "      <td>0.059848</td>\n",
       "      <td>0.182396</td>\n",
       "      <td>0.252598</td>\n",
       "      <td>0.241376</td>\n",
       "    </tr>\n",
       "    <tr>\n",
       "      <th>gta</th>\n",
       "      <td>0.373946</td>\n",
       "      <td>0.084170</td>\n",
       "      <td>0.070196</td>\n",
       "      <td>0.184157</td>\n",
       "      <td>0.248143</td>\n",
       "      <td>0.184419</td>\n",
       "    </tr>\n",
       "  </tbody>\n",
       "</table>\n",
       "</div>"
      ],
      "text/plain": [
       "                           video_toxicity  video_severe_toxicity  \\\n",
       "game                                                               \n",
       "gta, pokemon go                  0.519439               0.199532   \n",
       "resident evil                    0.409674               0.118904   \n",
       "star wars jedi, minecraft        0.404682               0.098836   \n",
       "gta, minecraft                   0.389314               0.102968   \n",
       "gta                              0.373946               0.084170   \n",
       "\n",
       "                           video_identity_attack  video_insult  \\\n",
       "game                                                             \n",
       "gta, pokemon go                         0.108487      0.247346   \n",
       "resident evil                           0.075690      0.215622   \n",
       "star wars jedi, minecraft               0.074913      0.202225   \n",
       "gta, minecraft                          0.059848      0.182396   \n",
       "gta                                     0.070196      0.184157   \n",
       "\n",
       "                           video_profanity  video_threat  \n",
       "game                                                      \n",
       "gta, pokemon go                   0.389346      0.312245  \n",
       "resident evil                     0.301832      0.195912  \n",
       "star wars jedi, minecraft         0.311184      0.178865  \n",
       "gta, minecraft                    0.252598      0.241376  \n",
       "gta                               0.248143      0.184419  "
      ]
     },
     "execution_count": 38,
     "metadata": {},
     "output_type": "execute_result"
    }
   ],
   "source": [
    "game_toxicity.head()"
   ]
  },
  {
   "cell_type": "code",
   "execution_count": 39,
   "id": "7b21fea1-5250-4d73-8778-42257814c69e",
   "metadata": {
    "tags": []
   },
   "outputs": [
    {
     "data": {
      "text/plain": [
       "Text(0.5, 1.0, 'Toxicity Scores of Video Games')"
      ]
     },
     "execution_count": 39,
     "metadata": {},
     "output_type": "execute_result"
    },
    {
     "data": {
      "image/png": "[encoded data removed]",
      "text/plain": [
       "<Figure size 1000x600 with 1 Axes>"
      ]
     },
     "metadata": {},
     "output_type": "display_data"
    }
   ],
   "source": [
    "game_toxicity_plot = game_toxicity['video_toxicity']\n",
    "\n",
    "plt.figure(figsize = (10, 6))\n",
    "ax = game_toxicity_plot.plot(kind='bar', color='skyblue')\n",
    "# Adding labels and title\n",
    "plt.xlabel('Game')\n",
    "ax.set_xticklabels(ax.get_xticklabels(), rotation=45, ha='right') \n",
    "plt.ylabel('Toxicity')\n",
    "plt.title('Toxicity Scores of Video Games')"
   ]
  },
  {
   "cell_type": "code",
   "execution_count": 42,
   "id": "40444964-3350-42cc-a2fd-d1bc2055d827",
   "metadata": {},
   "outputs": [],
   "source": [
    "game_vader_textblob = video_info_vader_txtblb_df.groupby('game')[video_sentiment_measures].mean().sort_values(by = 'video_neg', ascending=False)"
   ]
  },
  {
   "cell_type": "code",
   "execution_count": 43,
   "id": "86107e0c-d352-4f27-8da8-5564caa53143",
   "metadata": {
    "tags": []
   },
   "outputs": [
    {
     "data": {
      "text/html": [
       "<div>\n",
       "<style scoped>\n",
       "    .dataframe tbody tr th:only-of-type {\n",
       "        vertical-align: middle;\n",
       "    }\n",
       "\n",
       "    .dataframe tbody tr th {\n",
       "        vertical-align: top;\n",
       "    }\n",
       "\n",
       "    .dataframe thead th {\n",
       "        text-align: right;\n",
       "    }\n",
       "</style>\n",
       "<table border=\"1\" class=\"dataframe\">\n",
       "  <thead>\n",
       "    <tr style=\"text-align: right;\">\n",
       "      <th></th>\n",
       "      <th>video_neg</th>\n",
       "      <th>video_neu</th>\n",
       "      <th>video_pos</th>\n",
       "      <th>video_compound</th>\n",
       "      <th>video_polarity</th>\n",
       "      <th>video_subjectivity</th>\n",
       "    </tr>\n",
       "    <tr>\n",
       "      <th>game</th>\n",
       "      <th></th>\n",
       "      <th></th>\n",
       "      <th></th>\n",
       "      <th></th>\n",
       "      <th></th>\n",
       "      <th></th>\n",
       "    </tr>\n",
       "  </thead>\n",
       "  <tbody>\n",
       "    <tr>\n",
       "      <th>gta, pokemon go</th>\n",
       "      <td>0.1250</td>\n",
       "      <td>0.736000</td>\n",
       "      <td>0.139000</td>\n",
       "      <td>0.790200</td>\n",
       "      <td>0.516310</td>\n",
       "      <td>0.516310</td>\n",
       "    </tr>\n",
       "    <tr>\n",
       "      <th>god of war</th>\n",
       "      <td>0.1170</td>\n",
       "      <td>0.710255</td>\n",
       "      <td>0.172766</td>\n",
       "      <td>0.950668</td>\n",
       "      <td>0.519808</td>\n",
       "      <td>0.519808</td>\n",
       "    </tr>\n",
       "    <tr>\n",
       "      <th>assassin's creed, minecraft</th>\n",
       "      <td>0.1130</td>\n",
       "      <td>0.684000</td>\n",
       "      <td>0.202000</td>\n",
       "      <td>0.999900</td>\n",
       "      <td>0.519420</td>\n",
       "      <td>0.519420</td>\n",
       "    </tr>\n",
       "    <tr>\n",
       "      <th>star wars jedi</th>\n",
       "      <td>0.1120</td>\n",
       "      <td>0.712000</td>\n",
       "      <td>0.176000</td>\n",
       "      <td>0.999600</td>\n",
       "      <td>0.530155</td>\n",
       "      <td>0.530155</td>\n",
       "    </tr>\n",
       "    <tr>\n",
       "      <th>elden ring</th>\n",
       "      <td>0.1093</td>\n",
       "      <td>0.725650</td>\n",
       "      <td>0.165100</td>\n",
       "      <td>0.903605</td>\n",
       "      <td>0.522672</td>\n",
       "      <td>0.522672</td>\n",
       "    </tr>\n",
       "  </tbody>\n",
       "</table>\n",
       "</div>"
      ],
      "text/plain": [
       "                             video_neg  video_neu  video_pos  video_compound  \\\n",
       "game                                                                           \n",
       "gta, pokemon go                 0.1250   0.736000   0.139000        0.790200   \n",
       "god of war                      0.1170   0.710255   0.172766        0.950668   \n",
       "assassin's creed, minecraft     0.1130   0.684000   0.202000        0.999900   \n",
       "star wars jedi                  0.1120   0.712000   0.176000        0.999600   \n",
       "elden ring                      0.1093   0.725650   0.165100        0.903605   \n",
       "\n",
       "                             video_polarity  video_subjectivity  \n",
       "game                                                             \n",
       "gta, pokemon go                    0.516310            0.516310  \n",
       "god of war                         0.519808            0.519808  \n",
       "assassin's creed, minecraft        0.519420            0.519420  \n",
       "star wars jedi                     0.530155            0.530155  \n",
       "elden ring                         0.522672            0.522672  "
      ]
     },
     "execution_count": 43,
     "metadata": {},
     "output_type": "execute_result"
    }
   ],
   "source": [
    "game_vader_textblob.head()"
   ]
  },
  {
   "cell_type": "code",
   "execution_count": 44,
   "id": "14683179-0e29-4c87-8d76-2ea9cdfcb81f",
   "metadata": {},
   "outputs": [
    {
     "data": {
      "text/plain": [
       "Text(0.5, 1.0, 'Negativity Scores of Video Games')"
      ]
     },
     "execution_count": 44,
     "metadata": {},
     "output_type": "execute_result"
    },
    {
     "data": {
      "image/png": "[encoded data removed]",
      "text/plain": [
       "<Figure size 1000x600 with 1 Axes>"
      ]
     },
     "metadata": {},
     "output_type": "display_data"
    }
   ],
   "source": [
    "game_vader_textblob_plot = game_vader_textblob['video_neg']\n",
    "\n",
    "plt.figure(figsize = (10, 6))\n",
    "ax = game_vader_textblob_plot.plot(kind='bar', color='skyblue')\n",
    "# Adding labels and title\n",
    "plt.xlabel('Game')\n",
    "ax.set_xticklabels(ax.get_xticklabels(), rotation=45, ha='right') \n",
    "plt.ylabel('Video Negativity')\n",
    "plt.title('Negativity Scores of Video Games')"
   ]
  },
  {
   "cell_type": "code",
   "execution_count": null,
   "id": "dd3c4a8e-a122-4e75-a694-02e46aa30779",
   "metadata": {},
   "outputs": [],
   "source": [
    "# simple_df.groupby(['genre','game']).mean()"
   ]
  },
  {
   "cell_type": "markdown",
   "id": "aafa5fbb-6a0f-48dd-a30d-880c7dec4b76",
   "metadata": {},
   "source": [
    "## Toxicity by Channel"
   ]
  },
  {
   "cell_type": "code",
   "execution_count": null,
   "id": "078604be-48e9-4ff6-af70-7cbe5aef34a1",
   "metadata": {},
   "outputs": [],
   "source": [
    "channel_toxicity = simple_df.groupby('channel_name')[sentiment_measures].mean().sort_values(by = 'toxicity', ascending=False)"
   ]
  },
  {
   "cell_type": "code",
   "execution_count": null,
   "id": "4e12af00-719a-4773-8037-5f9f6e787f4e",
   "metadata": {},
   "outputs": [],
   "source": [
    "channel_toxicity_plot = channel_toxicity['toxicity']\n",
    "\n",
    "plt.figure(figsize = (12, 6))\n",
    "ax = channel_toxicity_plot.plot(kind='bar', color='skyblue')\n",
    "# Adding labels and title\n",
    "plt.xlabel('YouTuber')\n",
    "ax.set_xticklabels(ax.get_xticklabels(), rotation=45, ha='right') \n",
    "plt.ylabel('Toxicity')\n",
    "plt.title('Toxicity Scores by YouTuber')"
   ]
  },
  {
   "cell_type": "markdown",
   "id": "2d414eab-77c8-4943-a283-9621582b419d",
   "metadata": {},
   "source": [
    "## Investigating Why different YouTuber has different Toxicity Means?"
   ]
  },
  {
   "cell_type": "code",
   "execution_count": null,
   "id": "d2cdfc36-8828-4864-9b6d-79a56f7db8f3",
   "metadata": {},
   "outputs": [],
   "source": [
    "# Pivot to calculate unique count of video titles for each channel and genre\n",
    "count_vid_by_channel_genre = simple_df.pivot_table(index='channel_name', columns='genre', values='video_title', aggfunc='nunique', fill_value=0).reset_index()\n",
    "\n",
    "# Rename columns for clarity\n",
    "count_vid_by_channel_genre.rename(columns={'action': 'action_count', 'non-action': 'non_action_count'}, inplace=True)"
   ]
  },
  {
   "cell_type": "code",
   "execution_count": null,
   "id": "5e5afe4a-fa30-4ee0-b1a4-5e6873502fee",
   "metadata": {},
   "outputs": [],
   "source": [
    "count_vid_by_channel_genre.head(3)"
   ]
  },
  {
   "cell_type": "code",
   "execution_count": null,
   "id": "0db1c1c6-60c0-4d5b-854c-afa8c6938065",
   "metadata": {},
   "outputs": [],
   "source": [
    "plt.figure(figsize=(16, 4))\n",
    "\n",
    "# Plot action counts\n",
    "plt.bar(count_vid_by_channel_genre['channel_name'], count_vid_by_channel_genre['action_count'], color='skyblue', width=0.4, label='Action')\n",
    "\n",
    "# Plot non-action counts\n",
    "plt.bar(count_vid_by_channel_genre['channel_name'], count_vid_by_channel_genre['non_action_count'], color='green', width=0.4, label='Non-Action', bottom = count_vid_by_channel_genre['action_count'])\n",
    "\n",
    "# Adding labels and title\n",
    "plt.xlabel('Channel Name')\n",
    "plt.ylabel('Video Count')\n",
    "plt.title('Action/Non-Action Video Count Proportion by Channel')\n",
    "plt.legend(title='Genre')\n",
    "plt.xticks(rotation=45)\n",
    "plt.tight_layout()\n",
    "plt.show()"
   ]
  },
  {
   "cell_type": "code",
   "execution_count": null,
   "id": "e6e3e19f-2c24-41de-91f5-b7b49c4041d4",
   "metadata": {},
   "outputs": [],
   "source": [
    "count_vid_by_channel_genre['action_video_%'] = round(100*(count_vid_by_channel_genre['action_count']/(count_vid_by_channel_genre['action_count']+ count_vid_by_channel_genre['non_action_count'])),2)"
   ]
  },
  {
   "cell_type": "code",
   "execution_count": null,
   "id": "545ddd03-8068-4849-8fed-2589f029ce4b",
   "metadata": {},
   "outputs": [],
   "source": [
    "count_vid_by_channel_genre = count_vid_by_channel_genre.merge(channel_toxicity['toxicity'], left_on= 'channel_name', right_index=True,how = 'left')"
   ]
  },
  {
   "cell_type": "code",
   "execution_count": null,
   "id": "3b07d188-f2c6-403c-8355-4bb6a955b106",
   "metadata": {},
   "outputs": [],
   "source": [
    "count_vid_by_channel_genre = count_vid_by_channel_genre.sort_values(by = 'action_video_%', ascending = False).reset_index(drop = True)"
   ]
  },
  {
   "cell_type": "code",
   "execution_count": null,
   "id": "4674ead8-8ac3-4241-a1be-8030c9221bef",
   "metadata": {},
   "outputs": [],
   "source": [
    "count_vid_by_channel_genre"
   ]
  },
  {
   "cell_type": "code",
   "execution_count": null,
   "id": "8e9b9982-3f0a-4712-a179-38068b9ffb24",
   "metadata": {},
   "outputs": [],
   "source": [
    "# Scatter plot\n",
    "plt.figure(figsize=(12, 6))\n",
    "plt.scatter(count_vid_by_channel_genre['action_video_%'], count_vid_by_channel_genre['toxicity'])\n",
    "plt.xlabel('Percent of Action Video in YouTuber channel collected')\n",
    "plt.ylabel('toxicity')\n",
    "plt.title('Scatter Plot action videos percentage vs. toxicity score')\n",
    "plt.grid(True)\n",
    "plt.show()"
   ]
  },
  {
   "cell_type": "code",
   "execution_count": null,
   "id": "2cc21dc1-f0dc-4de3-9639-e088ade95a39",
   "metadata": {},
   "outputs": [],
   "source": [
    "sns.regplot(x = 'action_video_%', y = 'toxicity', data = count_vid_by_channel_genre, ci = None,\n",
    "                line_kws = {\"color\": \"#526A9B\"},\n",
    "                scatter_kws = {\"s\": 20, \"color\": \"#619AA2\", \"alpha\": 0.6})\n",
    "plt.xlabel('Percent of Action Video in YouTuber channel collected')\n",
    "plt.ylabel('toxicity')\n",
    "plt.title('Scatter Plot action videos percentage vs. toxicity score')\n",
    "# plt.grid(True)\n",
    "plt.show()"
   ]
  },
  {
   "cell_type": "code",
   "execution_count": null,
   "id": "f5ee19f0-1b7b-4898-aaa0-bca69f83c477",
   "metadata": {},
   "outputs": [],
   "source": []
  }
 ],
 "metadata": {
  "kernelspec": {
   "display_name": "Python 3 (ipykernel)",
   "language": "python",
   "name": "python3"
  },
  "language_info": {
   "codemirror_mode": {
    "name": "ipython",
    "version": 3
   },
   "file_extension": ".py",
   "mimetype": "text/x-python",
   "name": "python",
   "nbconvert_exporter": "python",
   "pygments_lexer": "ipython3",
   "version": "3.11.5"
  }
 },
 "nbformat": 4,
 "nbformat_minor": 5
}
