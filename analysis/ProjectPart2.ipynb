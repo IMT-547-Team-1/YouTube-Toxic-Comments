{
 "cells": [
  {
   "cell_type": "markdown",
   "id": "ceecea29-a34d-4798-a12f-0ce96aea0fdb",
   "metadata": {
    "tags": []
   },
   "source": [
    "# IMT 547 Final Project: Phase 2"
   ]
  },
  {
   "cell_type": "markdown",
   "id": "0e35842f-3a66-416a-9785-8b12eae5e5d3",
   "metadata": {},
   "source": [
    "Team 1: Chesie Yu, Hongfan Lu, Bella Wei"
   ]
  },
  {
   "cell_type": "markdown",
   "id": "28553dc4-e589-45d9-9eac-6867ed56dfc9",
   "metadata": {},
   "source": [
    "02/27/2024"
   ]
  },
  {
   "cell_type": "markdown",
   "id": "bce4989b-f812-4303-ba2e-ad663134fcdd",
   "metadata": {},
   "source": [
    "## Project Overview: YouTube Gaming Comments Toxicity\n",
    "\n",
    "**Team name**: _Team 1_  \n",
    "**Team members**: _Chesie Yu, Hongfan Lu, Bella Wei_  \n",
    "\n",
    "**Problem Description**:  \n",
    "Toxicity in the gaming community is a prevalent problem that hinders the harmonious development of the gaming industry. Our objective is to tackle this concern by exploring whether the game category (Action and Non-Action) serves as a primary determinant of toxicity levels in YouTube video comments. This study focuses on the observational perspective rather than the player angle. If proven, it can offer valuable insights for gaming community management, game design, and the design of social media platforms.  \n",
    "\n",
    "**Initial RQ**:\n",
    "- Do videos of action games arouse significant more toxic comments than non-action games in YouTube?  \n",
    "- Is gaming category a primary predictor for toxic comments in YouTube?  \n",
    "\n",
    "**Initial Findings in Phase 1**:\n",
    "- Videos of action games arouse a little more toxic comments than non-action games, but the influence is not very strong. \n",
    "- Gaming category is not a primary predictor for toxic comments in YouTube.\n"
   ]
  },
  {
   "cell_type": "markdown",
   "id": "79ddd0fd-876c-40c1-8766-1d56bc339e3b",
   "metadata": {},
   "source": [
    "  "
   ]
  },
  {
   "cell_type": "markdown",
   "id": "fbe49e6b-5fa6-4719-bb2e-4c1d7ffce982",
   "metadata": {},
   "source": [
    "___"
   ]
  },
  {
   "cell_type": "markdown",
   "id": "08a8a4f6-1c0e-4b47-9bd2-f9ebf9a07452",
   "metadata": {},
   "source": [
    "  "
   ]
  },
  {
   "cell_type": "markdown",
   "id": "2febabd4-670e-4f3e-8b4a-9cad77ac4f67",
   "metadata": {},
   "source": [
    "## Project Progress in Phase 2"
   ]
  },
  {
   "cell_type": "markdown",
   "id": "322e2706-a394-410f-9911-dbb884a14caa",
   "metadata": {},
   "source": [
    "## Qualitative:\n",
    "\n",
    "### Question, Problem, Hypothesis, Claim, Context, Motivation    \n",
    "**Question**: \n",
    "- Do videos with higher toxicity in the transcript trigger more toxic comments?\n",
    "- Do YouTubers who frequently use toxic language elicit more toxic comments?\n",
    "- What are the most common topics in toxic videos compared to harmonious videos?\n",
    "\n",
    "**Hypothesis**:  \n",
    "- Videos with higher toxicity in the transcript are likely to elicit more toxic comments.\n",
    "- YouTubers who use more toxic language are likely to trigger more toxic comments.\n",
    "- Topics in toxic videos are expected to involve more violence, war, and fights compared to harmonious videos.\n",
    "\n",
    "**Motivation**:  \n",
    "In this phase, we focus on investigating the relationship between video content and the comment section. If we can identify patterns or causal relationships in the video content and user interactions within the comment section, we can offer insightful suggestions to social media platforms on how to prevent toxic comments. This could involve censoring potentially harmful video content before it leads to toxic interactions and has a widespread negative impact."
   ]
  },
  {
   "cell_type": "markdown",
   "id": "0a91b94f-a54b-475f-9b5d-80e17f3d31a0",
   "metadata": {},
   "source": [
    "  "
   ]
  },
  {
   "cell_type": "markdown",
   "id": "9d0bd055-fd36-4c8a-99f7-367527dc3149",
   "metadata": {},
   "source": [
    "### Definitions, Data, Methods to be Used  \n",
    "\n",
    "**Data**:  \n",
    "\n",
    "We scraped videos under 33 English-Speaking YouTube channels from a list of top 100. For each channel, we select 30 video for action games and 30 for non-action games. In Phase two, for each video, we got the transcript for further analysis and comparison.\n",
    "\n",
    "\n",
    "**Methods**:  \n",
    "\n",
    "We use the yt-dlp package to gain access to YouTube video transcripts. We then divide the lengthy transcript into separate small chunks with overlapping to preserve context. Different weights are assigned to various parts of the transcript, and the toxicity score is calculated using the Perspective API.\n"
   ]
  },
  {
   "cell_type": "markdown",
   "id": "d8b7fb21-3dc0-49d4-9f75-6093bee6f63c",
   "metadata": {},
   "source": [
    "### Assumptions, Biases  \n",
    "\n",
    "**Assumptions**:\n",
    "- YouTube comments are free-speech and not-filtered seriously.   \n",
    "- YouTube transcript are complete and not filtered seriously.\n",
    "\n",
    "**Biases**:\n",
    "- We use predefined keywords list to fetch videos, which may not be representative enough.  \n",
    "- We retrieve 100 comments under each video, provided by the default order on YouTube, which may introduce bias.\n",
    "- We found that the toxicity in the transcript is much higher than in the comment section. This difference may be attributed to the fact that oral language is more prone to being toxic than written comments. Additionally, some language used during gameplay may not necessarily imply bad intentions and could be less serious in nature."
   ]
  },
  {
   "cell_type": "markdown",
   "id": "04d89071-d63b-43bd-84f9-f38be3b96c78",
   "metadata": {},
   "source": [
    "  "
   ]
  },
  {
   "cell_type": "markdown",
   "id": "31b0830c-79ab-47e4-979f-849d33ca0cd2",
   "metadata": {},
   "source": [
    "## Quantitative: (Procedural Section & New things we do)"
   ]
  },
  {
   "cell_type": "markdown",
   "id": "0b42dfe0-63d7-460d-a46b-c48d8a950c19",
   "metadata": {},
   "source": [
    "### Data Collection Procedure  "
   ]
  },
  {
   "cell_type": "markdown",
   "id": "16826eb8-7100-4a9a-a745-037d77e5f348",
   "metadata": {},
   "source": [
    "Data science is an **iterative process**. :) This phase of our project introduces several **adjustments to our original data collection procedures**, **improving the accuracy** and **broadening the scope** of our investigation.  Here is an overview of the changes we have implemented: "
   ]
  },
  {
   "cell_type": "markdown",
   "id": "e850446d-c5b5-4ae2-b82c-bb2a85fc827c",
   "metadata": {},
   "source": [
    "**Selection Criteria**  \n",
    "\n",
    "- **Keyword List Revision**: The keyword **\"batman\"** was removed from our list of action games, to **eliminate confusion** and **mitigate misclassification**, as \"batman\" could refer to the character rather than the game.   \n",
    "\n",
    "- **Channel Selection Modification**: From our initial list curated from [SocialBook's Top 100 Gaming YouTubers](https://socialbook.io/youtube-channel-rank/top-100-gaming-youtubers), we have **excluded one channel** that we identified as not predominantly focusing on video gaming content, ensuring our focus on the **English-speaking gaming community**.  "
   ]
  },
  {
   "cell_type": "markdown",
   "id": "625ce25a-3435-4b0b-8bb9-0b7e58a45006",
   "metadata": {},
   "source": [
    "**Additional Features**  \n",
    "- **Channel Features**: We collected an **expanded set of channel features**: `[\"channel_id\", \"channel_name\", \"channel_description\", \"channel_country\", \"channel_uploads_id\", \"channel_viewcount\", \"channel_subscribercount\", \"channel_video_count\"]`  \n",
    "\n",
    "- **Video Features**: **New video attributes** have been included: `[\"video_duration\", \"video_live\"]`, offering insights into video length and whether the content was streamline live.     \n",
    "\n",
    "- **Video Subtitle**: We added a new function, **`get_video_subtitle`**, to the existing data collection pipeline.  By utilizing **`yt-dlp`** to download **automatic English subtitles** for all videos, we aim to investigate the correlation between **video langauge and comment toxicity**.  "
   ]
  },
  {
   "cell_type": "markdown",
   "id": "27079c12-468f-4708-97e3-8cc9b18b992b",
   "metadata": {},
   "source": [
    "**Performance Improvement**  \n",
    "\n",
    "- **Batch Processing**: We introduced batch processing in **channel and video information retrieval**, through `channels().list()` and `videos().list()` methods, **reducing the number of API calls** required and thereby **lowering quota usage from 49.25% to 34.75%**.  \n",
    "\n",
    "- **Additional Logging**: We have implemented additional logging mechanisms to facilitate the debugging process, ensuring a smoother data collection workflow.  "
   ]
  },
  {
   "cell_type": "markdown",
   "id": "17583251-92b0-49d3-9493-27c7c8f0d115",
   "metadata": {},
   "source": [
    "**Bug Fixes**  \n",
    "\n",
    "- **Video Statistics Imputation**: We noticed that video statistics that were unavailable were **incorrectly imputed as \"0\"**.  This practice affected a tiny fractions of videos yet may lead to **misrepresentation of the actual engagement levels**.  We corrected this error to ensure accuracy in our data representation.     "
   ]
  },
  {
   "cell_type": "markdown",
   "id": "3cb20a8c-3c78-4fb5-9011-bb0b4a32b332",
   "metadata": {},
   "source": [
    "The final dataset consists of **136,463 comments** and **1,407** unique videos, encompassing **25 channel, video, and comment features**.  In the subsequent section, we will list the updates in preprocessing steps that addressed data quality concerns.  "
   ]
  },
  {
   "cell_type": "markdown",
   "id": "54a5228d-5129-484d-99e3-4c51084fa667",
   "metadata": {},
   "source": [
    "  "
   ]
  },
  {
   "cell_type": "markdown",
   "id": "0a64670c-9f96-4d6a-a41f-ca9209e1aebe",
   "metadata": {},
   "source": [
    "### Data Preprocessing"
   ]
  },
  {
   "cell_type": "markdown",
   "id": "005c1d79-61f3-4d3f-a0a1-5c45e1426619",
   "metadata": {},
   "source": [
    "_To ensure the **integrity and relevance** of our data, we have also refined our preprocessing methodologies and procedures.  Below is an outline of the significant updates made during this phase:_    "
   ]
  },
  {
   "cell_type": "markdown",
   "id": "a231ed72-6969-4db1-b937-8e986ef486cf",
   "metadata": {},
   "source": [
    "**Data Cleaning**\n",
    "\n",
    "- **ISO 8601 Duration**: Video durations, coded in ISO 8601 format, were parsed into the **total number of seconds** to facilitate the anlaysis.  \n",
    "\n",
    "- **Invalid Entries**: We identified a few invalid entries due to **imporper handling of carriage returns (\\r)** when writing to CSV.  These were cleaned up in the process of removing missing data.  \n",
    "\n",
    "- **Duplicate Entries**: We identified 4 videos that were categorized as both action and non-action in the previous data.  Here we introduced a **check for duplicates to prevent overlapping genres**.   \n",
    "\n",
    "- **Sparse Channels**: We intended to remove channels with a **very low count of videos** to **avoid bias in channel-level analyses**.  However, we chose to retain these at this stage to explore interesting patterns from certain channels (IShowSpeed) that would have otherwise been removed.   "
   ]
  },
  {
   "cell_type": "markdown",
   "id": "57f0bfec-a5b1-44a3-baad-d69efaa5b493",
   "metadata": {},
   "source": [
    "**Feature Engineering**   \n",
    "\n",
    "We have derived some new features by **transforming existing data**:  \n",
    "- **`video_game`**: Identifies the **game mentioned** in the video title.  \n",
    "\n",
    "- **`video_blocked_wordcount`, `video_blocked_proportion`**: Counts and proportion of **censored words in video subtitles**.  We noticed that **YouTube automatically blocks certain profanities** - given that this would likely **systematically lower perceived video toxicity scores**, we extracted these metrics as a supplementary dimension to video toxicity assessment.  \n",
    "\n",
    "- **`video_speed`**: Calculates the words per second within videos.  "
   ]
  },
  {
   "cell_type": "markdown",
   "id": "5fd21a79-6c5a-4241-94bb-cb711ae5755e",
   "metadata": {},
   "source": [
    "**Content Labeling: Toxicity Annotation**   \n",
    "- **Video Toxicity**: We have added annotations for video transcripts to assess toxicity levels.  However, Perspective API is **unable to process long text with more than 20480 bytes**; moreover, it works the best for **comment-length documents** as it was originally trained on comments.  To overcome this issue, we implemented two additional functions.  In **`split_text`**, we split the transcript into **overlapping chunks of 100 words**, **preserving the context** and accounting for the fact that these **chunks are not independent**.  In **`calculate_proportion`**, we computed the **weight** of each chunk and assigned **lower weights to overlapping words**.  We then compute the **weighted average** of the scores for each chunk as the **\"video toxicity\"**.  \n",
    "\n",
    "- **Raw Text**: Taken into account the feedback from phase 1, we applied the Perspective API **directly on raw texts** to **retain the original context**.  "
   ]
  },
  {
   "cell_type": "markdown",
   "id": "b5cb9132-99ff-4446-96a2-964008a9bfb7",
   "metadata": {},
   "source": [
    "**Text Preprocessing**   \n",
    "\n",
    "- **English Comments**: While the `spacy-langdetect` tool was not effective for our purposes, we utilized the **`detectedLanguage` attribute from Perspective API** to filter out non-English comments.  \n",
    "\n",
    "- **Text Cleaning**: We segmented text cleaning into **three levels** - **minimal, moderate, and tokenization** - to **tailor preprocessing needs** for sentiment analysis and potential future modeling.  "
   ]
  },
  {
   "cell_type": "markdown",
   "id": "7ff17fe8-13e9-40f0-aa0b-df259bc45344",
   "metadata": {},
   "source": [
    "**Content Labeling: Sentiment Evaluation**   \n",
    "\n",
    "- **Video Sentiment**: We have extracted sentiment scores for video transcripts in addition to comments.  \n",
    "\n",
    "- VADER is performed on minimally clened text, as it is **tailored to [social media text](https://github.com/cjhutto/vaderSentiment/blob/master/vaderSentiment/vaderSentiment.py#L517)** with its ability to **handle punctuation, all caps, slang, and emoji**.  \n",
    "\n",
    "- TextBlob and Empath anlayses were conducted on moderately cleaned text, as we couldn't find evidence on how well they support these social media text nuances from the documentation/paper.   \n",
    "\n",
    "- **Empath**: We collected **all 194 empath categories** to examine the **influence of video topic/theme on comment toxicity** - i.e., are toxicity more prevalent when certain topics are mentioned in the video?  "
   ]
  },
  {
   "cell_type": "markdown",
   "id": "bbe5f0a5-97a6-4222-b762-dbeea5a31dec",
   "metadata": {},
   "source": [
    "The final labeled dataset contains **124,704 rows and 448 columns**, with **1301 unique videos** extracted from **32 unique channels**.  "
   ]
  },
  {
   "cell_type": "markdown",
   "id": "5367d108-a8a8-425f-85a7-9b482ff672a1",
   "metadata": {},
   "source": [
    "  "
   ]
  },
  {
   "cell_type": "markdown",
   "id": "a19e6eef-6ff5-4f2f-aa4c-91941b3537d2",
   "metadata": {},
   "source": [
    "### Preliminary Analysis"
   ]
  },
  {
   "cell_type": "markdown",
   "id": "8a5f42bd-10bf-4555-8c8e-fe35e491f740",
   "metadata": {},
   "source": [
    "`03-preliminary-analysis` were also updated with **visualizations on video features** in addition to comment features.  In addition, we modified the toxicity threshold from 0.3 to 0.5.  "
   ]
  },
  {
   "cell_type": "markdown",
   "id": "54474d24-4345-4475-9697-38dc9ff59c57",
   "metadata": {},
   "source": [
    "<br>"
   ]
  },
  {
   "cell_type": "markdown",
   "id": "997cbbf6-2c51-46e5-a9aa-f09bb906c47c",
   "metadata": {},
   "source": [
    "## Data Analysis Visualization"
   ]
  },
  {
   "cell_type": "markdown",
   "id": "e38a1899-afec-4d6a-b318-664e27e0decf",
   "metadata": {},
   "source": [
    "### Investigate the relationship between transcript toxicity and comment toxicity through each game.\n",
    "### Visualize the distribution of toxicity in transcript and in comments"
   ]
  },
  {
   "cell_type": "markdown",
   "id": "30921152-dc26-4990-a850-a8bac0f45455",
   "metadata": {},
   "source": [
    "1. GroupBy Game"
   ]
  },
  {
   "cell_type": "markdown",
   "id": "ac02ffdc-7d6d-46b4-a7c5-6ca0462df86e",
   "metadata": {},
   "source": [
    "- Scatterplot"
   ]
  },
  {
   "cell_type": "markdown",
   "id": "e8df2278-7bdf-4032-9092-1e9cce3e47f6",
   "metadata": {
    "tags": []
   },
   "source": [
    "<img src=\"Feb-27/ByGame_Scatter.png\" width=\"50%\">\n"
   ]
  },
  {
   "cell_type": "markdown",
   "id": "5c04047d-bd72-4951-979b-ae4bd37c803a",
   "metadata": {
    "tags": []
   },
   "source": [
    "For each game, we can see that there is a positive correlation relationship between Video Toxicity and Comment Toxicity. Although the scatters are sparse (compared to the graph grouped by channel/youtuber), regplot was able to identify a positive relationship."
   ]
  },
  {
   "cell_type": "markdown",
   "id": "602fe6c3-ac9c-40e0-a0cf-c73eba70f962",
   "metadata": {},
   "source": [
    "- Barplot"
   ]
  },
  {
   "cell_type": "markdown",
   "id": "dd7ec1a5-f846-4cba-9a27-4345ad6ca3ee",
   "metadata": {},
   "source": [
    "<img src=\"Feb-27/ByGame_Barplot.png\" width=\"50%\">\n"
   ]
  },
  {
   "cell_type": "markdown",
   "id": "ce37d40e-bcfe-46c1-9739-1d62563ee310",
   "metadata": {},
   "source": [
    "From this distribution plot, the correlation between comment and transcript toxicity is less obvious. However, we can still observe that the comment toxicity (purple bars) have a higher running average for the top half of the graph is slightly higher than that of the lower half. "
   ]
  },
  {
   "cell_type": "markdown",
   "id": "2dc7057c-6131-4e6f-8018-01ff30dfe566",
   "metadata": {},
   "source": [
    "<img src=\"Feb-27/KDE_Distribution.png\" width=\"50%\">\n"
   ]
  },
  {
   "cell_type": "markdown",
   "id": "669dc46c-fd44-4385-ac28-3f0a92fc20a5",
   "metadata": {},
   "source": [
    "Overall, there are a few observations from two plots above:\n",
    "\n",
    "1. There is a positive relationship among video transcripts toxicity and comment section toxicity when grouped BY GAME\n",
    "2. This means that some games are indeed more toxic than the other; Although we have yet to test this hypothesis statistically.\n",
    "3. This fact is observed, INDEPENDENT of YouTuber's individual effect on comment sections"
   ]
  },
  {
   "cell_type": "markdown",
   "id": "1945a6f8-6f39-4459-806c-76258f3341c1",
   "metadata": {},
   "source": [
    "2. GroupBy YouTuber"
   ]
  },
  {
   "cell_type": "markdown",
   "id": "02be6689-a4b0-42e6-bf41-31da0058d830",
   "metadata": {
    "tags": []
   },
   "source": [
    "<img src=\"Feb-27/ByChannel_Scatter.png\" width=\"60%\">"
   ]
  },
  {
   "cell_type": "markdown",
   "id": "52393d5c-7d59-4e8c-93ee-5f290e7ae72b",
   "metadata": {},
   "source": [
    "The graph above is a much denser looking scatter and regplot and the positive slope of the regression line is steeper compared to the scatter plot for game. This suggest the stronger explanatory power of group by channel, indicating that individual behaviors in transcripts might have a bigger impact on the comment section behaviors."
   ]
  },
  {
   "cell_type": "markdown",
   "id": "2b7e7597-87eb-43d2-ad77-89b3c5dd34cf",
   "metadata": {},
   "source": [
    "<img src=\"Feb-27/ByGame_Barplot.png\" width=\"60%\">"
   ]
  },
  {
   "cell_type": "markdown",
   "id": "0a1f01ae-e9cc-4826-8089-190738fa965f",
   "metadata": {
    "tags": []
   },
   "source": [
    "<img src=\"Feb-27/KDE_Youtuber.png\" width=\"70%\">"
   ]
  },
  {
   "cell_type": "markdown",
   "id": "48c5af36-bd35-4ea3-a560-db5edf6a2011",
   "metadata": {},
   "source": [
    "## Investigate the most common topics in toxic videos"
   ]
  },
  {
   "cell_type": "markdown",
   "id": "bc109344-4c3b-4abb-b8ad-860296236daa",
   "metadata": {
    "tags": []
   },
   "source": [
    "<img src=\"Feb-27/Topics_highest_toxic_videos.png\" width=\"70%\">"
   ]
  },
  {
   "cell_type": "markdown",
   "id": "b23f9db5-6b81-47ab-ad25-4b4a435b82b4",
   "metadata": {},
   "source": [
    "We sorted the list of videos by toxicity, identified the top 10 videos with the highest toxicity scores, and determined the most common 10 topics among them. The topic keywords are: negative_emotion, weapon, violence, friends, swearing, pain, war, death, kill, and hate."
   ]
  },
  {
   "cell_type": "markdown",
   "id": "e32af81c-b922-43c8-88b2-f533ea3e8b22",
   "metadata": {
    "tags": []
   },
   "source": [
    "<img src=\"Feb-27/Barplot_highest.png\" width=\"70%\">"
   ]
  },
  {
   "cell_type": "markdown",
   "id": "1302388f-bd9f-43a2-ab5c-a6245fb8e756",
   "metadata": {},
   "source": [
    "## Investigate the most common topics in non-toxic videos"
   ]
  },
  {
   "cell_type": "markdown",
   "id": "1cc722c4-2ee0-4210-8273-d3f057eab98f",
   "metadata": {
    "tags": []
   },
   "source": [
    "<img src=\"Feb-27/Topics_lowest_toxic_videos.png\" width=\"70%\">"
   ]
  },
  {
   "cell_type": "markdown",
   "id": "f1387a34-c7ae-4824-bfde-e8f2d1aa9922",
   "metadata": {},
   "source": [
    "We sorted the list of videos by toxicity, identified the top 10 videos with the lowest toxicity scores, and determined the most common 10 topics among them. The topic keywords are: musical, music, dance, fun, art, listen, sound, hearing, noise and positive_emotion."
   ]
  },
  {
   "cell_type": "markdown",
   "id": "f19c1896-3307-4c3b-8d1d-bf6d06ecf3fd",
   "metadata": {
    "tags": []
   },
   "source": [
    "<img src=\"Feb-27/Barplot_lowest.png\" width=\"70%\">"
   ]
  },
  {
   "cell_type": "markdown",
   "id": "a0bcfd90-cb8d-472c-910b-d1c7afc964f0",
   "metadata": {},
   "source": [
    "  "
   ]
  },
  {
   "cell_type": "markdown",
   "id": "9faded14-0be1-429c-ab65-c8762a06372b",
   "metadata": {},
   "source": [
    "___"
   ]
  },
  {
   "cell_type": "markdown",
   "id": "2892844b-dcf3-4383-9e36-58c8201e4571",
   "metadata": {},
   "source": [
    "  "
   ]
  },
  {
   "cell_type": "markdown",
   "id": "57568ad2-1c64-449d-91df-c696a0859fa4",
   "metadata": {},
   "source": [
    "## Qualitative  \n",
    "\n",
    "### Answer, update question/claim, summary, re-contextualization, story, relate to domain knowledge  \n",
    "\n",
    "**Answer**:   \n",
    "\n",
    "From our further exploration, we can answer our update research questions:\n",
    "- Videos with higher toxicity in the transcript generally tend to trigger more toxic comments, but the relationship is not strong or causal. It is not an accurate predictor of comment toxicity. The distribution of comment toxicity appears somewhat random and may be influenced by various factors other than just the toxicity of the transcript.\n",
    "- Youtubers who use more toxic language are likely to trigger more toxic comments, but is not the only determinator.\n",
    "- Surprisingly, the common topics in the most toxic and least toxic videos exhibit clear differences and patterns. Toxic videos frequently cover negative topics such as 'violence,' 'war,' and 'kill,' while non-toxic videos predominantly feature positive topics like 'music,' 'dance,' 'art,' and 'fun.' Intuitively, it can be observed that the topics in toxic videos are more negative in nature compared to non-toxic videos.\n",
    "\n",
    "**Updated Question**:\n",
    "\n",
    "- What are other primary factors or predictors of online gaming toxicity?\n",
    "- How can our insights inform practical strategies for fostering a healthier online interaction environment?\n",
    "            \n",
    "**Relate to Domain Knowledge**:   \n",
    "\n",
    "- From our toxicity calculation using the Perspective API, we discovered that the toxicity in the video transcript is much higher than in the comments. This difference may be attributed to the common and non-harmful use of certain language within the gaming community while playing games. Such language does not necessarily imply malicious intent, prompting us to explore methods for detecting the genuine intentions behind oral language use beyond the literal words in gaming area."
   ]
  },
  {
   "cell_type": "markdown",
   "id": "585129c9-71f6-4f2e-8d25-8dbad3ab31fe",
   "metadata": {},
   "source": [
    "  "
   ]
  },
  {
   "cell_type": "markdown",
   "id": "38a6ba58-7708-4d52-8b58-e5ef03315851",
   "metadata": {},
   "source": [
    "___"
   ]
  },
  {
   "cell_type": "markdown",
   "id": "2c2f2028-9476-4987-9243-ccba649b955f",
   "metadata": {},
   "source": [
    "  "
   ]
  },
  {
   "cell_type": "markdown",
   "id": "5dfcd881-1537-4e05-8b65-5ee3150aa00c",
   "metadata": {},
   "source": [
    "## Credit listing:\n",
    "\n",
    "### Chesie Yu    \n",
    "\n",
    "- Buildng code structure   \n",
    "- Writing code/documentations for data collection, data cleaning, text processing, toxicity and sentiment labeling, visualization and preliminary analysis     \n",
    "         \n",
    "### Hongfan Lu  \n",
    "- Writing code for data collection, processing, preliminary analysis and visualization    \n",
    "- Collecting gaming YouTuber channel information   \n",
    "- Generating observations and ideas for future exploration  \n",
    "         \n",
    "### Bella Wei  \n",
    "- Conducting Data collection, data analysis and visualization\n",
    "- Writing the ProjectPhase2-Summary-report  \n",
    "     \n",
    "### Collaboration    \n",
    "- Idea Generation  \n",
    "- Literature Review  \n",
    "- Reseach Question Formation  \n",
    "- Workflow Design  \n",
    "- Data collection  \n",
    "- Data collection result Interpretaion and Discussion  \n",
    "- Future direction exploration   "
   ]
  }
 ],
 "metadata": {
  "kernelspec": {
   "display_name": "Python 3 (ipykernel)",
   "language": "python",
   "name": "python3"
  },
  "language_info": {
   "codemirror_mode": {
    "name": "ipython",
    "version": 3
   },
   "file_extension": ".py",
   "mimetype": "text/x-python",
   "name": "python",
   "nbconvert_exporter": "python",
   "pygments_lexer": "ipython3",
   "version": "3.10.13"
  }
 },
 "nbformat": 4,
 "nbformat_minor": 5
}
