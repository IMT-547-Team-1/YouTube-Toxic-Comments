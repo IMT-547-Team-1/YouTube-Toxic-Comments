{
 "cells": [
  {
   "cell_type": "code",
   "execution_count": null,
   "id": "895aff56-4f37-4fc6-966b-1908490341b1",
   "metadata": {},
   "outputs": [],
   "source": [
    "# game_toxicity_plot = game_toxicity_comment['comment_toxicity']\n",
    "\n",
    "# plt.figure(figsize = (8, 5))\n",
    "# ax = game_toxicity_plot.plot(kind='bar', color='skyblue')\n",
    "# # Adding labels and title\n",
    "# plt.xlabel('Game')\n",
    "# ax.set_xticklabels(ax.get_xticklabels(), rotation=45, ha='right') \n",
    "# plt.ylabel('Toxicity')\n",
    "# plt.title('Comment Section Toxicity Scores of Video Games')"
   ]
  },
  {
   "cell_type": "code",
   "execution_count": null,
   "id": "c9e19c7e-ee7f-4b23-b423-462c71b2eecf",
   "metadata": {},
   "outputs": [],
   "source": [
    "# game_toxicity_plot = game_toxicity['video_toxicity']\n",
    "\n",
    "# plt.figure(figsize = (8, 5))\n",
    "# ax = game_toxicity_plot.plot(kind='bar', color='skyblue')\n",
    "# # Adding labels and title\n",
    "# plt.xlabel('Game')\n",
    "# ax.set_xticklabels(ax.get_xticklabels(), rotation=45, ha='right') \n",
    "# plt.ylabel('Toxicity')\n",
    "# plt.title('YouTube Transcript Toxicity Scores of Video Games')"
   ]
  },
  {
   "cell_type": "code",
   "execution_count": null,
   "id": "aa93a575-9170-4220-b437-9b217aab7863",
   "metadata": {},
   "outputs": [],
   "source": [
    "game_vader_textblob = video_info_vader_txtblb_df.groupby('game')[video_sentiment_measures].mean().sort_values(by = 'video_neg', ascending=False)"
   ]
  },
  {
   "cell_type": "code",
   "execution_count": null,
   "id": "22daf87f-f20f-4735-bf47-c656d9f28242",
   "metadata": {},
   "outputs": [],
   "source": [
    "# game_vader_textblob_plot = game_vader_textblob['video_neg']\n",
    "\n",
    "# plt.figure(figsize = (8, 5))\n",
    "# ax = game_vader_textblob_plot.plot(kind='bar', color='green')\n",
    "# # Adding labels and title\n",
    "# plt.xlabel('Game')\n",
    "# ax.set_xticklabels(ax.get_xticklabels(), rotation=45, ha='right') \n",
    "# plt.ylabel('Video Negativity')\n",
    "# plt.title('Negativity Scores of Video Games')"
   ]
  },
  {
   "cell_type": "code",
   "execution_count": null,
   "id": "f6972941-8f19-49a8-98e8-575b6d68fa46",
   "metadata": {},
   "outputs": [],
   "source": [
    "game_vader_textblob_comment = comment_info_vader_txtblb_df.groupby('game')[comment_sentiment_measures].mean().sort_values(by = 'comment_neg', ascending=False)"
   ]
  },
  {
   "cell_type": "code",
   "execution_count": null,
   "id": "89ee7a9e-e40e-4f1e-9f92-bf7feeb6c15d",
   "metadata": {},
   "outputs": [],
   "source": [
    "# game_vader_textblob_comment_plot = game_vader_textblob_comment['comment_neg']\n",
    "\n",
    "# plt.figure(figsize = (8, 5))\n",
    "# ax = game_vader_textblob_comment_plot.plot(kind='bar', color='green')\n",
    "# # Adding labels and title\n",
    "# plt.xlabel('Game')\n",
    "# ax.set_xticklabels(ax.get_xticklabels(), rotation=45, ha='right') \n",
    "# plt.ylabel('Comment Negativity')\n",
    "# plt.title('Comment Section Negativity Scores of Video Games')"
   ]
  },
  {
   "cell_type": "code",
   "execution_count": 1,
   "id": "d3bb47c2-79f8-4a8b-851d-a698aeb3b9f3",
   "metadata": {
    "tags": []
   },
   "outputs": [],
   "source": [
    "### YouTube Transcript's Vader by Game"
   ]
  },
  {
   "cell_type": "code",
   "execution_count": null,
   "id": "773047d4-5ee5-4313-a44f-689f8e53e460",
   "metadata": {},
   "outputs": [],
   "source": [
    "channel_toxicity_plot = channel_toxicity['video_toxicity']\n",
    "\n",
    "plt.figure(figsize = (12, 6))\n",
    "ax = channel_toxicity_plot.plot(kind='bar', color='skyblue')\n",
    "# Adding labels and title\n",
    "plt.xlabel('YouTuber')\n",
    "ax.set_xticklabels(ax.get_xticklabels(), rotation=45, ha='right') \n",
    "plt.ylabel('Toxicity')\n",
    "plt.title('Toxicity Scores by YouTuber')"
   ]
  },
  {
   "cell_type": "code",
   "execution_count": null,
   "id": "42c7ccfe-dc6b-463e-b97b-4135b034b5fc",
   "metadata": {},
   "outputs": [],
   "source": [
    "# Scatter plot\n",
    "plt.figure(figsize=(12, 6))\n",
    "plt.scatter(count_vid_by_channel_genre['action_video_%'], count_vid_by_channel_genre['toxicity'])\n",
    "plt.xlabel('Percent of Action Video in YouTuber channel collected')\n",
    "plt.ylabel('toxicity')\n",
    "plt.title('Scatter Plot action videos percentage vs. toxicity score')\n",
    "plt.grid(True)\n",
    "plt.show()"
   ]
  },
  {
   "cell_type": "code",
   "execution_count": null,
   "id": "3ed9e382-7b3c-44f8-be25-c487bb0ac3a0",
   "metadata": {},
   "outputs": [],
   "source": [
    "sns.regplot(x = 'action_video_%', y = 'toxicity', data = count_vid_by_channel_genre, ci = None,\n",
    "                line_kws = {\"color\": \"#526A9B\"},\n",
    "                scatter_kws = {\"s\": 20, \"color\": \"#619AA2\", \"alpha\": 0.6})\n",
    "plt.xlabel('Percent of Action Video in YouTuber channel collected')\n",
    "plt.ylabel('toxicity')\n",
    "plt.title('Scatter Plot action videos percentage vs. toxicity score')\n",
    "# plt.grid(True)\n",
    "plt.show()"
   ]
  },
  {
   "cell_type": "code",
   "execution_count": null,
   "id": "70f7dfd8-e214-4fb2-8287-cb8a87b15300",
   "metadata": {},
   "outputs": [],
   "source": []
  },
  {
   "cell_type": "code",
   "execution_count": null,
   "id": "5f2164e5-e890-4577-9b95-016b380915f7",
   "metadata": {},
   "outputs": [],
   "source": []
  }
 ],
 "metadata": {
  "kernelspec": {
   "display_name": "Python 3 (ipykernel)",
   "language": "python",
   "name": "python3"
  },
  "language_info": {
   "codemirror_mode": {
    "name": "ipython",
    "version": 3
   },
   "file_extension": ".py",
   "mimetype": "text/x-python",
   "name": "python",
   "nbconvert_exporter": "python",
   "pygments_lexer": "ipython3",
   "version": "3.11.5"
  }
 },
 "nbformat": 4,
 "nbformat_minor": 5
}
